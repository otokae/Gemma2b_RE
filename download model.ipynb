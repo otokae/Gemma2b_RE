{
 "cells": [
  {
   "cell_type": "code",
   "execution_count": null,
   "id": "d7f48186-588b-4fb0-9c86-e41b06c7f4f1",
   "metadata": {
    "tags": []
   },
   "outputs": [],
   "source": [
    "!pip install gdown\n"
   ]
  },
  {
   "cell_type": "code",
   "execution_count": null,
   "id": "68d78ade-b6be-4e1c-b462-924cd929102d",
   "metadata": {
    "tags": []
   },
   "outputs": [],
   "source": [
    "import gdown\n",
    "\n",
    "# File ID from the shared link\n",
    "file_id = '1-GzoISs02WojrydfpprEkIv6x-DllYOm'\n",
    "\n",
    "# Construct the download URL\n",
    "url = f\"https://drive.google.com/uc?id={file_id}\"\n",
    "\n",
    "# Download the file\n",
    "output = 'my_model.keras'\n",
    "gdown.download(url, output, quiet=False)\n",
    "\n",
    "print(\"Download completed!\")\n"
   ]
  },
  {
   "cell_type": "code",
   "execution_count": null,
   "id": "fd34e4f4-0e32-4762-8bfd-a0c99bd150e4",
   "metadata": {},
   "outputs": [],
   "source": []
  }
 ],
 "metadata": {
  "environment": {
   "kernel": "conda-base-py",
   "name": "workbench-notebooks.m125",
   "type": "gcloud",
   "uri": "us-docker.pkg.dev/deeplearning-platform-release/gcr.io/workbench-notebooks:m125"
  },
  "kernelspec": {
   "display_name": "Python 3 (ipykernel)",
   "language": "python",
   "name": "conda-base-py"
  },
  "language_info": {
   "codemirror_mode": {
    "name": "ipython",
    "version": 3
   },
   "file_extension": ".py",
   "mimetype": "text/x-python",
   "name": "python",
   "nbconvert_exporter": "python",
   "pygments_lexer": "ipython3",
   "version": "3.10.15"
  }
 },
 "nbformat": 4,
 "nbformat_minor": 5
}
