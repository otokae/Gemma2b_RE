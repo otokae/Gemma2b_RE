{
 "cells": [
  {
   "cell_type": "markdown",
   "metadata": {},
   "source": [
    "# SETUP THE ENVIORNMENT"
   ]
  },
  {
   "cell_type": "code",
   "execution_count": null,
   "metadata": {
    "id": "1eeBtYqJsZPG",
    "outputId": "d0645149-4fe7-4304-81dd-cb18354cd7c9",
    "papermill": {
     "duration": 29.215629,
     "end_time": "2024-02-21T09:38:03.131031",
     "exception": false,
     "start_time": "2024-02-21T09:37:33.915402",
     "status": "completed"
    },
    "tags": []
   },
   "outputs": [],
   "source": [
    "!pip install tensorflow[and-cuda]"
   ]
  },
  {
   "cell_type": "code",
   "execution_count": null,
   "metadata": {
    "id": "1eeBtYqJsZPG",
    "outputId": "d0645149-4fe7-4304-81dd-cb18354cd7c9",
    "papermill": {
     "duration": 29.215629,
     "end_time": "2024-02-21T09:38:03.131031",
     "exception": false,
     "start_time": "2024-02-21T09:37:33.915402",
     "status": "completed"
    },
    "tags": []
   },
   "outputs": [],
   "source": [
    "!pip install keras-nlp"
   ]
  },
  {
   "cell_type": "code",
   "execution_count": null,
   "metadata": {
    "tags": []
   },
   "outputs": [],
   "source": [
    "!pip install gradio"
   ]
  },
  {
   "cell_type": "code",
   "execution_count": null,
   "metadata": {},
   "outputs": [],
   "source": [
    "!pip install psutil\n"
   ]
  },
  {
   "cell_type": "markdown",
   "metadata": {
    "id": "hZs8XXqUKRmi",
    "papermill": {
     "duration": 0.008992,
     "end_time": "2024-02-21T09:38:03.193546",
     "exception": false,
     "start_time": "2024-02-21T09:38:03.184554",
     "status": "completed"
    },
    "tags": []
   },
   "source": [
    "# IMPORT PACKAGES\n",
    "\n",
    "Import Keras and KerasNLP."
   ]
  },
  {
   "cell_type": "code",
   "execution_count": null,
   "metadata": {
    "id": "FYHyPUA9hKTf",
    "papermill": {
     "duration": 13.723138,
     "end_time": "2024-02-21T09:38:16.925885",
     "exception": false,
     "start_time": "2024-02-21T09:38:03.202747",
     "status": "completed"
    },
    "tags": []
   },
   "outputs": [],
   "source": [
    "import keras\n",
    "import keras_nlp"
   ]
  },
  {
   "cell_type": "markdown",
   "metadata": {},
   "source": [
    "# GET KAGGLE CREDENTIALS\n"
   ]
  },
  {
   "cell_type": "code",
   "execution_count": 4,
   "metadata": {
    "tags": []
   },
   "outputs": [
    {
     "data": {
      "application/vnd.jupyter.widget-view+json": {
       "model_id": "898535a4c9d84bfcae3d0838abafa932",
       "version_major": 2,
       "version_minor": 0
      },
      "text/plain": [
       "VBox(children=(HTML(value='<center> <img\\nsrc=https://www.kaggle.com/static/images/site-logo.png\\nalt=\\'Kaggle…"
      ]
     },
     "metadata": {},
     "output_type": "display_data"
    }
   ],
   "source": [
    "# Installed Kaggle Hub to login\n",
    "\n",
    "import kagglehub\n",
    "kagglehub.login()"
   ]
  },
  {
   "cell_type": "markdown",
   "metadata": {
    "tags": []
   },
   "source": [
    "# LOAD TRAINING DATASET"
   ]
  },
  {
   "cell_type": "code",
   "execution_count": 19,
   "metadata": {
    "tags": []
   },
   "outputs": [],
   "source": [
    "import json\n",
    "\n",
    "# Load data\n",
    "data = []\n",
    "file_path = 'final_laws.jsonl'\n",
    "\n",
    "with open(file_path, 'r') as file:\n",
    "    for line in file:\n",
    "        features = json.loads(line)\n",
    "        \n",
    "        # Format the example with Question and Answer\n",
    "        template = \"Question:\\n{Question}\\n\\nAnswer:\\n{Answer}\"\n",
    "        \n",
    "        # Add the formatted string to data\n",
    "        data.append(template.format(**features))\n",
    "\n",
    "# use 996 training examples, to keep it fast in the beginning used 100 examples\n",
    "data = data[:996]"
   ]
  },
  {
   "cell_type": "code",
   "execution_count": null,
   "metadata": {
    "tags": []
   },
   "outputs": [],
   "source": [
    "#show the data head\n",
    "\n",
    "# Print the first few examples (head) with entry numbers\n",
    "for idx, item in enumerate(data[:5], start=1):  # Adjust the number as needed\n",
    "    print(f\"Entry {idx}:{item}\")\n",
    "    "
   ]
  },
  {
   "cell_type": "markdown",
   "metadata": {
    "id": "G_L6A5J-1QgC",
    "papermill": {
     "duration": 0.010947,
     "end_time": "2024-02-21T09:39:10.55264",
     "exception": false,
     "start_time": "2024-02-21T09:39:10.541693",
     "status": "completed"
    },
    "tags": []
   },
   "source": [
    "## Inference before fine tuning\n",
    "\n",
    "In this section, you will query the model with various prompts to see how it responds.\n"
   ]
  },
  {
   "cell_type": "markdown",
   "metadata": {
    "id": "PVLXadptyo34",
    "papermill": {
     "duration": 0.010445,
     "end_time": "2024-02-21T09:39:10.573368",
     "exception": false,
     "start_time": "2024-02-21T09:39:10.562923",
     "status": "completed"
    },
    "tags": []
   },
   "source": [
    "### Buy a Home Prompt\n",
    "\n",
    "### Query the model for suggestions on how to buy a home."
   ]
  },
  {
   "cell_type": "markdown",
   "metadata": {
    "id": "7RCE3fdGhDE5",
    "papermill": {
     "duration": 0.008892,
     "end_time": "2024-02-21T09:38:17.316544",
     "exception": false,
     "start_time": "2024-02-21T09:38:17.307652",
     "status": "completed"
    },
    "tags": []
   },
   "source": [
    "# Load Model\n",
    "\n"
   ]
  },
  {
   "cell_type": "code",
   "execution_count": null,
   "metadata": {
    "tags": []
   },
   "outputs": [],
   "source": [
    "\n",
    "import keras_nlp\n",
    "\n",
    "# Initialize the gemma_lm model\n",
    "gemma_lm = keras_nlp.models.GemmaCausalLM.from_preset(\"gemma_instruct_2b_en\")\n",
    "\n",
    "\n",
    "# Define the template for the prompt\n",
    "template = \"Question:\\n{Question}\\n\\nAnswer:\\n{Answer}\"\n",
    "\n",
    "# Format the prompt with a question and leave the answer blank for model generation\n",
    "prompt = template.format(\n",
    "    Question=\"How can I buy a new house?\",\n",
    "    Answer=\"\",  # Leaving the answer blank for the model to generate it\n",
    ")\n",
    "\n",
    "# Generate the response using gemma_lm model\n",
    "print(gemma_lm.generate(prompt, max_length=256))\n"
   ]
  },
  {
   "cell_type": "markdown",
   "metadata": {
    "id": "AePQUIs2h-Ks",
    "papermill": {
     "duration": 0.010616,
     "end_time": "2024-02-21T09:39:27.537776",
     "exception": false,
     "start_time": "2024-02-21T09:39:27.52716",
     "status": "completed"
    },
    "tags": []
   },
   "source": [
    "The model just responds with a basic advice on how to buy a home. "
   ]
  },
  {
   "cell_type": "markdown",
   "metadata": {
    "id": "YQ74Zz_S0iVv",
    "papermill": {
     "duration": 0.010188,
     "end_time": "2024-02-21T09:39:27.558437",
     "exception": false,
     "start_time": "2024-02-21T09:39:27.548249",
     "status": "completed"
    },
    "tags": []
   },
   "source": [
    "### ELI5 How to buy a Home Prompt\n",
    "\n",
    "Prompt the model to explain buying a home  in terms simple enough that a child can understand.\n"
   ]
  },
  {
   "cell_type": "code",
   "execution_count": null,
   "metadata": {
    "id": "lorJMbsusgoo",
    "outputId": "bff2c70f-b0f8-4402-c005-325861515c9a",
    "papermill": {
     "duration": 5.742136,
     "end_time": "2024-02-21T09:39:33.310999",
     "exception": false,
     "start_time": "2024-02-21T09:39:27.568863",
     "status": "completed"
    },
    "tags": []
   },
   "outputs": [],
   "source": [
    "prompt = template.format(\n",
    "    Question=\"Explain the process of buying a home in a way that a 5 year old child could understand.\",\n",
    "    Answer=\"\",\n",
    ")\n",
    "print(gemma_lm.generate(prompt, max_length=256))"
   ]
  },
  {
   "cell_type": "markdown",
   "metadata": {
    "id": "WBQieduRizZf",
    "papermill": {
     "duration": 0.010874,
     "end_time": "2024-02-21T09:39:33.333088",
     "exception": false,
     "start_time": "2024-02-21T09:39:33.322214",
     "status": "completed"
    },
    "tags": []
   },
   "source": [
    "The responses contains words that might not be easy to understand for a child such as budget, contract, reject."
   ]
  },
  {
   "cell_type": "markdown",
   "metadata": {
    "tags": []
   },
   "source": [
    "# FINE-TUNING CODE"
   ]
  },
  {
   "cell_type": "code",
   "execution_count": null,
   "metadata": {
    "id": "RCucu6oHz53G",
    "outputId": "0d8c80d7-0ab5-4fd3-e219-b2df4464084c",
    "papermill": {
     "duration": 0.511035,
     "end_time": "2024-02-21T09:39:33.876166",
     "exception": false,
     "start_time": "2024-02-21T09:39:33.365131",
     "status": "completed"
    },
    "tags": []
   },
   "outputs": [],
   "source": [
    "## LoRA Fine-tuning\n",
    "\n",
    "#To get better responses from the model, fine-tune the model with Low Rank Adaptation (LoRA) using the real estate law for ontario canada dataset\n",
    "\n",
    "#The LoRA rank determines the dimensionality of the trainable matrices that are added to the original weights of the LLM. It controls the expressiveness and precision of the fine-tuning adjustments.\n",
    "\n",
    "#A higher rank means more detailed changes are possible, but also means more trainable parameters. A lower rank means less computational overhead, but potentially less precise adaptation.\n",
    "\n",
    "#This tutorial uses a LoRA rank of 4. In practice, begin with a relatively small rank (such as 4, 8, 16). This is computationally efficient for experimentation. Train your model with this rank and evaluate the performance improvement on your task. Gradually increase the rank in subsequent trials and see if that further boosts performance.\n",
    "\n",
    "# Enable LoRA for the model and set the LoRA rank to 4.\n",
    "gemma_lm.backbone.enable_lora(rank=4)\n",
    "gemma_lm.summary()"
   ]
  },
  {
   "cell_type": "markdown",
   "metadata": {
    "id": "hQQ47kcdpbZ9",
    "papermill": {
     "duration": 0.011797,
     "end_time": "2024-02-21T09:39:33.903795",
     "exception": false,
     "start_time": "2024-02-21T09:39:33.891998",
     "status": "completed"
    },
    "tags": []
   },
   "source": [
    "Note that enabling LoRA reduces the number of trainable parameters significantly (from 2.5 billion to 1.3 million)."
   ]
  },
  {
   "cell_type": "code",
   "execution_count": null,
   "metadata": {
    "tags": []
   },
   "outputs": [],
   "source": [
    "# we will continue training from this point\n",
    "import json\n",
    "import tensorflow as tf\n",
    "from tensorflow.keras.callbacks import EarlyStopping, ReduceLROnPlateau\n",
    "\n",
    "# Load data\n",
    "data = []\n",
    "file_path = './kaggle/input/mydata-final-laws/mydata/final_laws.jsonl'\n",
    "\n",
    "with open(file_path, 'r') as file:\n",
    "    for line in file:\n",
    "        features = json.loads(line)\n",
    "        \n",
    "        # Format the example with Question and Answer\n",
    "        template = \"Question:\\n{Question}\\n\\nAnswer:\\n{Answer}\"\n",
    "        \n",
    "        # Add the formatted string to data\n",
    "        data.append(template.format(**features))\n",
    "\n",
    "# Only use 100 training examples, to keep it fast\n",
    "data = data[:996]\n",
    "\n",
    "# Limit the input sequence length to 512 (to control memory usage).\n",
    "gemma_lm.preprocessor.sequence_length = 512\n",
    "\n",
    "# Use AdamW (a common optimizer for transformer models) with a slightly higher learning rate\n",
    "optimizer = tf.keras.optimizers.AdamW(\n",
    "    learning_rate=5e-5,  # Increased learning rate for faster convergence\n",
    "    weight_decay=0.01,\n",
    ")\n",
    "\n",
    "# Exclude layernorm and bias terms from decay.\n",
    "optimizer.exclude_from_weight_decay(var_names=[\"bias\", \"scale\"])\n",
    "\n",
    "# Compile the model\n",
    "gemma_lm.compile(\n",
    "    loss=tf.keras.losses.SparseCategoricalCrossentropy(from_logits=True),\n",
    "    optimizer=optimizer,\n",
    "    weighted_metrics=[tf.keras.metrics.SparseCategoricalAccuracy()],\n",
    ")\n",
    "\n",
    "# Define EarlyStopping callback to monitor 'sparse_categorical_accuracy'\n",
    "early_stopping = EarlyStopping(\n",
    "    monitor='sparse_categorical_accuracy',  # Monitor accuracy\n",
    "    patience=3,  # Stop after 3 epochs of no improvement\n",
    "    mode='max',  # Stop when accuracy stops increasing\n",
    "    restore_best_weights=True  # Restore weights from the epoch with the best performance\n",
    ")\n",
    "\n",
    "# Learning rate scheduler to reduce learning rate if accuracy stops improving\n",
    "lr_scheduler = ReduceLROnPlateau(\n",
    "    monitor='sparse_categorical_accuracy',\n",
    "    factor=0.5,  # Reduce learning rate by half when accuracy plateaus\n",
    "    patience=2,  # Number of epochs to wait before reducing learning rate\n",
    "    min_lr=1e-7  # Set a minimum learning rate to prevent over-reduction\n",
    ")\n",
    "\n",
    "# Fit the model with early stopping and learning rate scheduler\n",
    "gemma_lm.fit(\n",
    "    data, \n",
    "    epochs=5, \n",
    "    batch_size=2,  # Increased batch size for better gradient updates\n",
    "    callbacks=[early_stopping, lr_scheduler]  # Added learning rate scheduler\n",
    ")\n"
   ]
  },
  {
   "cell_type": "markdown",
   "metadata": {
    "tags": []
   },
   "source": [
    "# NOT USED FINE-TUNING CODE"
   ]
  },
  {
   "cell_type": "markdown",
   "metadata": {},
   "source": [
    "## Save the model after it has been fine-tuned for resume later"
   ]
  },
  {
   "cell_type": "code",
   "execution_count": null,
   "metadata": {
    "tags": []
   },
   "outputs": [],
   "source": [
    "# import tensorflow as tf\n",
    "# from tensorflow import keras\n",
    "# from tensorflow.keras import layers\n",
    "\n",
    "\n",
    "# Save the Keras model in .keras format\n",
    "gemma_lm.save('./kaggle/input/my_model.keras')"
   ]
  },
  {
   "cell_type": "markdown",
   "metadata": {},
   "source": [
    "## Load the model after it has been fine-tuned\n"
   ]
  },
  {
   "cell_type": "code",
   "execution_count": null,
   "metadata": {
    "tags": []
   },
   "outputs": [],
   "source": [
    "# import keras so it is defined for later use\n",
    "import keras\n",
    "import keras_nlp\n",
    "\n",
    "# Load the saved model in .keras format# CODE 11-30-2024 EDITS\n",
    "# this is loading the model from Kaggle Public Upload link\n",
    "# Import necessary libraries\n",
    "import keras\n",
    "import urllib.request\n",
    "\n",
    "# Public URL of your model's .keras file\n",
    "model_url = \"https://www.kaggleusercontent.com/joelbest/gemma2b_re/keras/my_model_keraspreset/my_model.keras\"\n",
    "\n",
    "# Download the model file to the local environment\n",
    "local_model_path = \"my_model.keras\"\n",
    "urllib.request.urlretrieve(model_url, local_model_path)\n",
    "print(f\"Model downloaded to: {local_model_path}\")\n",
    "\n",
    "# Load the saved model in .keras format\n",
    "gemma_lm = keras.models.load_model(local_model_path)\n",
    "\n",
    "# Confirm the model is loaded successfully\n",
    "print(gemma_lm.summary())\n",
    "gemma_lm = keras.models.load_model('my_model.keras')\n",
    "\n"
   ]
  },
  {
   "cell_type": "code",
   "execution_count": null,
   "metadata": {
    "tags": []
   },
   "outputs": [],
   "source": [
    "# CODE 11-30-2024 EDITS\n",
    "# this is loading the model from Kaggle Public Upload link\n",
    "# Import necessary libraries\n",
    "import keras\n",
    "import urllib.request\n",
    "\n",
    "# Public URL of your model's .keras file\n",
    "model_url = \"https://www.kaggleusercontent.com/joelbest/gemma2b_re/keras/my_model_keraspreset/my_model.keras\"\n",
    "\n",
    "# Download the model file to the local environment\n",
    "local_model_path = \"my_model.keras\"\n",
    "urllib.request.urlretrieve(model_url, local_model_path)\n",
    "print(f\"Model downloaded to: {local_model_path}\")\n",
    "\n",
    "# Load the saved model in .keras format\n",
    "gemma_lm = keras.models.load_model(local_model_path)\n",
    "\n",
    "# Confirm the model is loaded successfully\n",
    "print(gemma_lm.summary())\n"
   ]
  },
  {
   "cell_type": "markdown",
   "metadata": {},
   "source": [
    "## Save the model after it has been fine-tuned for resume later"
   ]
  },
  {
   "cell_type": "markdown",
   "metadata": {
    "tags": []
   },
   "source": [
    "# DOWNLOAD MY PUBLIC KAGGLE MODEL"
   ]
  },
  {
   "cell_type": "code",
   "execution_count": null,
   "metadata": {
    "tags": []
   },
   "outputs": [],
   "source": [
    "# 11-30-2024 edits \n",
    "import kagglehub\n",
    "kagglehub.login()"
   ]
  },
  {
   "cell_type": "code",
   "execution_count": null,
   "metadata": {
    "tags": []
   },
   "outputs": [],
   "source": [
    "import kagglehub\n",
    "\n",
    "# Download latest version\n",
    "path = kagglehub.model_download(\"joelbest/gemma2b_re/keras/my_model_keraspreset/v1/my_model.keras\")\n",
    "\n",
    "print(\"Path to model files:\", path)"
   ]
  },
  {
   "cell_type": "markdown",
   "metadata": {
    "tags": []
   },
   "source": [
    "# TESTING"
   ]
  },
  {
   "cell_type": "code",
   "execution_count": null,
   "metadata": {
    "tags": []
   },
   "outputs": [],
   "source": [
    "#testing\n",
    "import keras\n",
    "import keras_nlp\n",
    "# Load the saved model with the built-in tokenizer and language model\n",
    "gemma_lm = keras.models.load_model('my_model.keras')\n",
    "\n",
    "# Example input texts for inference\n",
    "texts = [\n",
    "    \n",
    "    \"Do I need a lawyer to handle the closing process when purchasing a property in Ontario?\",\n",
    "    \"What are the legal implications of a co-ownership agreement when buying a property with someone else?\",\n",
    "    \"Can I negotiate a lower real estate commission rate with my agent?\",\n",
    "    \"What should I know about the rights and responsibilities for maintaining a shared fence between properties?\"\n",
    "]\n",
    "\n",
    "# Set a smaller batch size\n",
    "batch_size = 2\n",
    "\n",
    "# Perform inference in batches\n",
    "for i in range(0, len(texts), batch_size):\n",
    "    batch_texts = texts[i:i + batch_size]\n",
    "\n",
    "       \n",
    "  # Use the model to generate answers directly\n",
    "    answers = gemma_lm.generate(batch_texts)\n",
    "    \n",
    "    # Print the input questions and the generated answers\n",
    "    for text, answer in zip(batch_texts, answers):\n",
    "        print(f\"Question: {text}\")\n",
    "        print(f\"Answer: {answer}\\n\")\n",
    "\n"
   ]
  },
  {
   "cell_type": "code",
   "execution_count": null,
   "metadata": {},
   "outputs": [],
   "source": [
    "import tensorflow as tf# List available GPUs and their details\n",
    "gpus = tf.config.list_physical_devices('GPU')\n",
    "if gpus:\n",
    "    for gpu in gpus:\n",
    "        details = tf.config.experimental.get_memory_info(gpu.name)\n",
    "        print(f\"GPU: {gpu.name}\")\n",
    "        print(f\"  Current Memory Usage: {details['current']} bytes\")\n",
    "        print(f\"  Peak Memory Usage: {details['peak']} bytes\")\n",
    "else:\n",
    "    print(\"No GPU devices found.\")"
   ]
  },
  {
   "cell_type": "code",
   "execution_count": null,
   "metadata": {
    "tags": []
   },
   "outputs": [],
   "source": [
    "# SAVE THE MODEL AGAIN #\n",
    "\n",
    "gemma_lm.save('./kaggle/input/my_model.keras')"
   ]
  },
  {
   "cell_type": "code",
   "execution_count": null,
   "metadata": {
    "tags": []
   },
   "outputs": [],
   "source": [
    "# check the history of epochs trained so far \n",
    "# Assuming you have the history object from model.fit()\n",
    "history = model.fit(...)\n",
    "\n",
    "# To get the number of epochs that were run\n",
    "num_epochs = len(history.epoch)\n",
    "print(f\"Number of epochs run: {num_epochs}\")"
   ]
  },
  {
   "cell_type": "markdown",
   "metadata": {
    "id": "4yd-1cNw1dTn",
    "papermill": {
     "duration": 0.092253,
     "end_time": "2024-02-21T09:52:07.553072",
     "exception": false,
     "start_time": "2024-02-21T09:52:07.460819",
     "status": "completed"
    },
    "tags": []
   },
   "source": [
    "## INFERENCE AFTER FINE TUNING\n",
    "After fine-tuning, responses follow the instruction provided in the prompt."
   ]
  },
  {
   "cell_type": "markdown",
   "metadata": {
    "id": "H55JYJ1a1Kos",
    "papermill": {
     "duration": 0.092097,
     "end_time": "2024-02-21T09:52:07.73732",
     "exception": false,
     "start_time": "2024-02-21T09:52:07.645223",
     "status": "completed"
    },
    "tags": []
   },
   "source": [
    "### Buy a home Prompt\n"
   ]
  },
  {
   "cell_type": "code",
   "execution_count": null,
   "metadata": {
    "id": "Y7cDJHy8WfCB",
    "outputId": "5f67d5b9-826e-4d28-9be1-e95d295010b0",
    "papermill": {
     "duration": 14.645082,
     "end_time": "2024-02-21T09:52:22.473375",
     "exception": false,
     "start_time": "2024-02-21T09:52:07.828293",
     "status": "completed"
    },
    "tags": []
   },
   "outputs": [],
   "source": [
    "prompt = template.format(\n",
    "    Question=\"How can I buy a new house?\",\n",
    "    Answer=\"\",\n",
    ")\n",
    "print(gemma_lm.generate(prompt, max_length=256))"
   ]
  },
  {
   "cell_type": "markdown",
   "metadata": {
    "id": "OXP6gg2mjs6u",
    "papermill": {
     "duration": 0.104088,
     "end_time": "2024-02-21T09:52:22.681301",
     "exception": false,
     "start_time": "2024-02-21T09:52:22.577213",
     "status": "completed"
    },
    "tags": []
   },
   "source": [
    "The model now explains how to buy a home in Ontario."
   ]
  },
  {
   "cell_type": "markdown",
   "metadata": {
    "id": "H7nVd8Mi1Yta",
    "papermill": {
     "duration": 0.093425,
     "end_time": "2024-02-21T09:52:22.874292",
     "exception": false,
     "start_time": "2024-02-21T09:52:22.780867",
     "status": "completed"
    },
    "tags": []
   },
   "source": [
    "### ELI5 How to Buy a home Prompt\n"
   ]
  },
  {
   "cell_type": "code",
   "execution_count": null,
   "metadata": {
    "id": "X-2sYl2jqwl7",
    "outputId": "1d1f174b-508c-434b-8ae2-6ea517d49a37",
    "papermill": {
     "duration": 1.343147,
     "end_time": "2024-02-21T09:52:24.310022",
     "exception": false,
     "start_time": "2024-02-21T09:52:22.966875",
     "status": "completed"
    },
    "tags": []
   },
   "outputs": [],
   "source": [
    "prompt = template.format(\n",
    "    Question=\"Explain the process of buying a home in a way that a child could understand.\",\n",
    "crew     Answer=\"\",\n",
    ")\n",
    "print(gemma_lm.generate(prompt, max_length=256))"
   ]
  },
  {
   "cell_type": "markdown",
   "metadata": {
    "id": "rtj1MWG2HBPv",
    "papermill": {
     "duration": 0.094695,
     "end_time": "2024-02-21T09:52:24.685134",
     "exception": false,
     "start_time": "2024-02-21T09:52:24.590439",
     "status": "completed"
    },
    "tags": []
   },
   "source": [
    "## REMOVE THIS Note that for demonstration purposes, this tutorial fine-tunes the model on a small subset of the dataset for just one epoch and with a low LoRA rank value. To get better responses from the fine-tuned model, you can experiment with:\n",
    "\n",
    "1. Increasing the size of the fine-tuning dataset\n",
    "2. Training for more steps (epochs)\n",
    "3. Setting a higher LoRA rank\n",
    "4. Modifying the hyperparameter values such as `learning_rate` and `weight_decay`.\n"
   ]
  },
  {
   "cell_type": "code",
   "execution_count": null,
   "metadata": {
    "tags": []
   },
   "outputs": [],
   "source": [
    "#this code works\n",
    "\n",
    "import gradio as gr\n",
    "import tensorflow as tf\n",
    "import keras\n",
    "\n",
    "def generate_response(model: keras.Model, question: str, max_length: int = 250) -> str:\n",
    "    \"\"\"\n",
    "    Generates a response for a single question using the provided model.\n",
    "\n",
    "    Args:\n",
    "        model (keras.Model): The fine-tuned language model.\n",
    "        question (str): The user's input question.\n",
    "        max_length (int): Maximum length of the generated answer.\n",
    "\n",
    "    Returns:\n",
    "        str: The generated answer text.\n",
    "    \"\"\"\n",
    "    prompt_template = \"Question:\\n{question}\\n\\nAnswer:\\n\"\n",
    "    prompt = prompt_template.format(question=question)\n",
    "\n",
    "    try:\n",
    "        # Generate response using the model's generate method\n",
    "        generated_response = model.generate(prompt, max_length=max_length)\n",
    "\n",
    "        # Decode the generated response based on its type\n",
    "        if isinstance(generated_response, tf.Tensor):\n",
    "            generated_text = generated_response.numpy().decode('utf-8')\n",
    "        elif isinstance(generated_response, bytes):\n",
    "            generated_text = generated_response.decode('utf-8')\n",
    "        else:\n",
    "            generated_text = generated_response  # Assume it's already a string\n",
    "\n",
    "        # Extract the answer part by removing the prompt\n",
    "        answer_text = generated_text[len(prompt):].strip()\n",
    "        return answer_text\n",
    "\n",
    "    except Exception as e:\n",
    "        return f\"⚠️ Error generating answer: {e}\"\n",
    "\n",
    "# Define the chatbot function for Gradio\n",
    "def chatbot_gradio(user_input, model):\n",
    "    \"\"\"\n",
    "    Gradio-compatible chatbot function.\n",
    "    \n",
    "    Args:\n",
    "        user_input (str): The user's input question.\n",
    "        model (keras.Model): The fine-tuned language model.\n",
    "\n",
    "    Returns:\n",
    "        str: The chatbot's answer.\n",
    "    \"\"\"\n",
    "    if not user_input.strip():\n",
    "        return \"Chatbot: I'm here to help! Please enter a question.\"\n",
    "\n",
    "    answer = generate_response(model, user_input, max_length=250)\n",
    "    return answer\n",
    "\n",
    "# Example usage with Gradio:\n",
    "if gemma_lm:\n",
    "    # Create Gradio interface\n",
    "    interface = gr.Interface(\n",
    "        fn=lambda user_input: chatbot_gradio(user_input, gemma_lm),\n",
    "        inputs=\"text\",\n",
    "        outputs=\"text\",\n",
    "        title=\"Gemma 2b Language Model Chatbot\",\n",
    "        description=\"Enter a question, and the chatbot will respond.\"\n",
    "    )\n",
    "\n",
    "    # Launch the interface\n",
    "    interface.launch(share=True)\n",
    "else:\n",
    "    print(\"⚠️ Model not loaded. Skipping chatbot.\")\n"
   ]
  },
  {
   "cell_type": "markdown",
   "metadata": {},
   "source": [
    "\n",
    "# PUSH MODEL TO KAGGLE\n"
   ]
  },
  {
   "cell_type": "code",
   "execution_count": null,
   "metadata": {
    "tags": []
   },
   "outputs": [],
   "source": [
    "# PUSH THE MODEL TO KAGGLE\n",
    "\n",
    "\n",
    "import keras\n",
    "import keras_nlp\n",
    "\n",
    "# Load the saved model in .keras format\n",
    "gemma_lm = keras.models.load_model('my_model.keras')\n",
    "\n",
    "# Fine tune the model here. Example: Gemma fine-tuned to\n",
    "# speak like a pirate. See bit.ly/gemma-pirate-demo\n",
    "# ..."
   ]
  },
  {
   "cell_type": "code",
   "execution_count": null,
   "metadata": {
    "tags": []
   },
   "outputs": [],
   "source": [
    "# Save the finetuned model as a KerasNLP preset.\n",
    "gemma_lm.save_to_preset(\"my_model_KerasPreset\")\n",
    "\n",
    "# Upload the preset as a new model variant on Kaggle\n",
    "# kaggle_uri = \"kaggle://my_kaggle_usernam/gemma-pirate/keras/gemma-pirate-instruct-7b\"\n",
    "kaggle_uri = \"kaggle://joelbest/gemma2b_RE/keras/my_model_KerasPreset\"\n",
    "keras_nlp.upload_preset(kaggle_uri, \"./my_model_KerasPreset\")"
   ]
  },
  {
   "cell_type": "markdown",
   "metadata": {},
   "source": [
    "\n",
    "# LOAD MODEL FROM KAGGLE\n"
   ]
  },
  {
   "cell_type": "code",
   "execution_count": 6,
   "metadata": {
    "tags": []
   },
   "outputs": [
    {
     "data": {
      "application/vnd.jupyter.widget-view+json": {
       "model_id": "0a4565a7cbf94dff9fa7ed48637ccb4d",
       "version_major": 2,
       "version_minor": 0
      },
      "text/plain": [
       "Downloading 7 files:   0%|          | 0/7 [00:00<?, ?it/s]"
      ]
     },
     "metadata": {},
     "output_type": "display_data"
    },
    {
     "name": "stdout",
     "output_type": "stream",
     "text": [
      "Downloading from https://www.kaggle.com/api/v1/models/joelbest/gemma2b_re/keras/my_model_keraspreset/1/download/metadata.json...\n"
     ]
    },
    {
     "name": "stderr",
     "output_type": "stream",
     "text": [
      "\n",
      "100%|██████████| 143/143 [00:00<00:00, 432kB/s]"
     ]
    },
    {
     "name": "stdout",
     "output_type": "stream",
     "text": [
      "Downloading from https://www.kaggle.com/api/v1/models/joelbest/gemma2b_re/keras/my_model_keraspreset/1/download/preprocessor.json...\n"
     ]
    },
    {
     "name": "stderr",
     "output_type": "stream",
     "text": [
      "\n",
      "\n"
     ]
    },
    {
     "name": "stdout",
     "output_type": "stream",
     "text": [
      "Downloading from https://www.kaggle.com/api/v1/models/joelbest/gemma2b_re/keras/my_model_keraspreset/1/download/assets/tokenizer/vocabulary.spm...\n",
      "Downloading from https://www.kaggle.com/api/v1/models/joelbest/gemma2b_re/keras/my_model_keraspreset/1/download/config.json...\n"
     ]
    },
    {
     "name": "stderr",
     "output_type": "stream",
     "text": [
      "100%|██████████| 1.38k/1.38k [00:00<00:00, 593kB/s]\n",
      "\n",
      "\n",
      "  0%|          | 0.00/785 [00:00<?, ?B/s]\u001b[A\u001b[A\n",
      "\n",
      "\n",
      "100%|██████████| 785/785 [00:00<00:00, 276kB/s][A\u001b[A"
     ]
    },
    {
     "name": "stdout",
     "output_type": "stream",
     "text": [
      "Downloading from https://www.kaggle.com/api/v1/models/joelbest/gemma2b_re/keras/my_model_keraspreset/1/download/model.weights.h5...\n"
     ]
    },
    {
     "name": "stderr",
     "output_type": "stream",
     "text": [
      "\n",
      "\n",
      "  0%|          | 0.00/9.34G [00:00<?, ?B/s]\u001b[A"
     ]
    },
    {
     "name": "stdout",
     "output_type": "stream",
     "text": [
      "Downloading from https://www.kaggle.com/api/v1/models/joelbest/gemma2b_re/keras/my_model_keraspreset/1/download/tokenizer.json...\n"
     ]
    },
    {
     "name": "stderr",
     "output_type": "stream",
     "text": [
      "\n",
      "\n",
      "100%|██████████| 591/591 [00:00<00:00, 615kB/s]"
     ]
    },
    {
     "name": "stdout",
     "output_type": "stream",
     "text": [
      "Downloading from https://www.kaggle.com/api/v1/models/joelbest/gemma2b_re/keras/my_model_keraspreset/1/download/task.json...\n"
     ]
    },
    {
     "name": "stderr",
     "output_type": "stream",
     "text": [
      "\n",
      "\n",
      "\n",
      "100%|██████████| 2.91k/2.91k [00:00<00:00, 4.04MB/s]\n",
      "\n",
      "\n",
      "\n",
      " 25%|██▍       | 1.00M/4.04M [00:00<00:00, 5.65MB/s]\u001b[A\u001b[A\u001b[A\n",
      "100%|██████████| 4.04M/4.04M [00:00<00:00, 16.8MB/s]\u001b[A\n",
      "\n",
      "  0%|          | 8.00M/9.34G [00:00<04:54, 34.1MB/s]\u001b[A\n",
      "  0%|          | 18.0M/9.34G [00:00<03:32, 47.2MB/s]\u001b[A\n",
      "  0%|          | 27.0M/9.34G [00:00<03:01, 55.1MB/s]\u001b[A\n",
      "  0%|          | 34.0M/9.34G [00:00<03:04, 54.1MB/s]\u001b[A\n",
      "  0%|          | 41.0M/9.34G [00:00<03:04, 54.2MB/s]\u001b[A\n",
      "  1%|          | 49.0M/9.34G [00:00<02:42, 61.4MB/s]\u001b[A\n",
      "  1%|          | 57.0M/9.34G [00:01<02:39, 62.5MB/s]\u001b[A\n",
      "  1%|          | 65.0M/9.34G [00:01<02:43, 60.8MB/s]\u001b[A\n",
      "  1%|          | 73.0M/9.34G [00:01<03:08, 52.7MB/s]\u001b[A\n",
      "  1%|          | 81.0M/9.34G [00:01<02:55, 56.6MB/s]\u001b[A\n",
      "  1%|          | 89.0M/9.34G [00:01<03:22, 49.1MB/s]\u001b[A\n",
      "  1%|          | 100M/9.34G [00:01<02:44, 60.4MB/s] \u001b[A\n",
      "  1%|          | 107M/9.34G [00:02<02:45, 59.8MB/s]\u001b[A\n",
      "  1%|          | 118M/9.34G [00:02<02:17, 72.2MB/s]\u001b[A\n",
      "  1%|▏         | 126M/9.34G [00:02<02:23, 68.9MB/s]\u001b[A\n",
      "  1%|▏         | 134M/9.34G [00:02<02:34, 63.8MB/s]\u001b[A\n",
      "  1%|▏         | 141M/9.34G [00:02<02:33, 64.6MB/s]\u001b[A\n",
      "  2%|▏         | 152M/9.34G [00:02<02:13, 74.1MB/s]\u001b[A\n",
      "  2%|▏         | 160M/9.34G [00:02<02:37, 62.5MB/s]\u001b[A\n",
      "  2%|▏         | 169M/9.34G [00:03<02:33, 64.0MB/s]\u001b[A\n",
      "  2%|▏         | 179M/9.34G [00:03<02:14, 73.1MB/s]\u001b[A\n",
      "  2%|▏         | 187M/9.34G [00:03<02:14, 73.2MB/s]\u001b[A\n",
      "  2%|▏         | 195M/9.34G [00:03<03:04, 53.3MB/s]\u001b[A\n",
      "  2%|▏         | 202M/9.34G [00:03<03:11, 51.2MB/s]\u001b[A\n",
      "  2%|▏         | 209M/9.34G [00:03<03:05, 52.7MB/s]\u001b[A\n",
      "  2%|▏         | 220M/9.34G [00:03<02:29, 65.3MB/s]\u001b[A\n",
      "  2%|▏         | 232M/9.34G [00:04<02:07, 76.6MB/s]\u001b[A\n",
      "  3%|▎         | 240M/9.34G [00:04<02:19, 70.0MB/s]\u001b[A\n",
      "  3%|▎         | 249M/9.34G [00:04<02:14, 72.7MB/s]\u001b[A\n",
      "  3%|▎         | 257M/9.34G [00:04<02:10, 74.6MB/s]\u001b[A\n",
      "  3%|▎         | 268M/9.34G [00:04<01:55, 84.5MB/s]\u001b[A\n",
      "  3%|▎         | 279M/9.34G [00:04<01:47, 90.6MB/s]\u001b[A\n",
      "  3%|▎         | 289M/9.34G [00:04<02:02, 79.6MB/s]\u001b[A\n",
      "  3%|▎         | 301M/9.34G [00:04<01:49, 89.0MB/s]\u001b[A\n",
      "  3%|▎         | 312M/9.34G [00:04<01:41, 95.1MB/s]\u001b[A\n",
      "  3%|▎         | 323M/9.34G [00:05<01:37, 98.9MB/s]\u001b[A\n",
      "  3%|▎         | 333M/9.34G [00:05<01:37, 99.3MB/s]\u001b[A\n",
      "  4%|▎         | 344M/9.34G [00:05<01:36, 100MB/s] \u001b[A\n",
      "  4%|▎         | 355M/9.34G [00:05<01:34, 102MB/s]\u001b[A\n",
      "  4%|▍         | 365M/9.34G [00:05<01:36, 99.9MB/s]\u001b[A\n",
      "  4%|▍         | 376M/9.34G [00:05<01:34, 102MB/s] \u001b[A\n",
      "  4%|▍         | 386M/9.34G [00:05<02:00, 80.0MB/s]\u001b[A\n",
      "  4%|▍         | 395M/9.34G [00:05<01:57, 81.9MB/s]\u001b[A\n",
      "  4%|▍         | 404M/9.34G [00:06<01:54, 84.0MB/s]\u001b[A\n",
      "  4%|▍         | 413M/9.34G [00:06<02:16, 70.2MB/s]\u001b[A\n",
      "  4%|▍         | 422M/9.34G [00:06<02:07, 75.3MB/s]\u001b[A\n",
      "  5%|▍         | 432M/9.34G [00:06<01:56, 82.0MB/s]\u001b[A\n",
      "  5%|▍         | 441M/9.34G [00:06<02:26, 65.1MB/s]\u001b[A\n",
      "  5%|▍         | 450M/9.34G [00:06<02:13, 71.5MB/s]\u001b[A\n",
      "  5%|▍         | 459M/9.34G [00:06<02:04, 76.4MB/s]\u001b[A\n",
      "  5%|▍         | 469M/9.34G [00:06<02:02, 77.8MB/s]\u001b[A\n",
      "  5%|▌         | 480M/9.34G [00:07<01:50, 86.3MB/s]\u001b[A\n",
      "  5%|▌         | 489M/9.34G [00:07<01:58, 80.0MB/s]\u001b[A\n",
      "  5%|▌         | 498M/9.34G [00:07<01:54, 83.2MB/s]\u001b[A\n",
      "  5%|▌         | 509M/9.34G [00:07<01:48, 87.8MB/s]\u001b[A\n",
      "  5%|▌         | 520M/9.34G [00:07<01:39, 94.9MB/s]\u001b[A\n",
      "  6%|▌         | 530M/9.34G [00:07<01:43, 91.3MB/s]\u001b[A\n",
      "  6%|▌         | 539M/9.34G [00:07<01:43, 91.1MB/s]\u001b[A\n",
      "  6%|▌         | 549M/9.34G [00:07<01:42, 92.6MB/s]\u001b[A\n",
      "  6%|▌         | 558M/9.34G [00:07<01:42, 92.3MB/s]\u001b[A\n",
      "  6%|▌         | 568M/9.34G [00:08<01:42, 92.2MB/s]\u001b[A\n",
      "  6%|▌         | 577M/9.34G [00:08<02:19, 67.6MB/s]\u001b[A\n",
      "  6%|▌         | 585M/9.34G [00:08<02:12, 71.2MB/s]\u001b[A\n",
      "  6%|▌         | 594M/9.34G [00:08<02:03, 76.2MB/s]\u001b[A\n",
      "  6%|▋         | 604M/9.34G [00:08<01:52, 83.4MB/s]\u001b[A\n",
      "  6%|▋         | 613M/9.34G [00:08<01:58, 79.4MB/s]\u001b[A\n",
      "  7%|▋         | 623M/9.34G [00:08<01:49, 85.4MB/s]\u001b[A\n",
      "  7%|▋         | 633M/9.34G [00:08<01:44, 89.4MB/s]\u001b[A\n",
      "  7%|▋         | 642M/9.34G [00:09<02:03, 75.8MB/s]\u001b[A\n",
      "  7%|▋         | 651M/9.34G [00:09<01:56, 79.9MB/s]\u001b[A\n",
      "  7%|▋         | 661M/9.34G [00:09<01:48, 85.9MB/s]\u001b[A\n",
      "  7%|▋         | 672M/9.34G [00:09<01:44, 89.4MB/s]\u001b[A\n",
      "  7%|▋         | 683M/9.34G [00:09<01:39, 94.0MB/s]\u001b[A\n",
      "  7%|▋         | 694M/9.34G [00:09<01:34, 98.4MB/s]\u001b[A\n",
      "  7%|▋         | 704M/9.34G [00:09<01:34, 97.9MB/s]\u001b[A\n",
      "  7%|▋         | 714M/9.34G [00:09<01:47, 86.6MB/s]\u001b[A\n",
      "  8%|▊         | 723M/9.34G [00:10<01:49, 85.0MB/s]\u001b[A\n",
      "  8%|▊         | 733M/9.34G [00:10<01:46, 87.3MB/s]\u001b[A\n",
      "  8%|▊         | 743M/9.34G [00:10<01:40, 91.6MB/s]\u001b[A\n",
      "  8%|▊         | 753M/9.34G [00:10<01:37, 94.5MB/s]\u001b[A\n",
      "  8%|▊         | 763M/9.34G [00:10<01:37, 94.6MB/s]\u001b[A\n",
      "  8%|▊         | 773M/9.34G [00:10<01:38, 93.6MB/s]\u001b[A\n",
      "  8%|▊         | 783M/9.34G [00:10<01:35, 96.5MB/s]\u001b[A\n",
      "  8%|▊         | 793M/9.34G [00:10<02:11, 70.1MB/s]\u001b[A\n",
      "  8%|▊         | 802M/9.34G [00:11<02:02, 74.7MB/s]\u001b[A\n",
      "  9%|▊         | 813M/9.34G [00:11<01:49, 83.4MB/s]\u001b[A\n",
      "  9%|▊         | 824M/9.34G [00:11<01:45, 86.5MB/s]\u001b[A\n",
      "  9%|▊         | 833M/9.34G [00:11<01:52, 81.3MB/s]\u001b[A\n",
      "  9%|▉         | 842M/9.34G [00:11<01:48, 84.0MB/s]\u001b[A\n",
      "  9%|▉         | 852M/9.34G [00:11<01:43, 88.4MB/s]\u001b[A\n",
      "  9%|▉         | 861M/9.34G [00:11<02:10, 69.8MB/s]\u001b[A\n",
      "  9%|▉         | 871M/9.34G [00:11<01:57, 77.4MB/s]\u001b[A\n",
      "  9%|▉         | 880M/9.34G [00:12<01:52, 81.3MB/s]\u001b[A\n",
      "  9%|▉         | 889M/9.34G [00:12<01:58, 76.5MB/s]\u001b[A\n",
      "  9%|▉         | 900M/9.34G [00:12<01:46, 85.0MB/s]\u001b[A\n",
      " 10%|▉         | 911M/9.34G [00:12<01:39, 91.2MB/s]\u001b[A\n",
      " 10%|▉         | 921M/9.34G [00:12<01:37, 93.1MB/s]\u001b[A\n",
      " 10%|▉         | 931M/9.34G [00:12<01:34, 95.3MB/s]\u001b[A\n",
      " 10%|▉         | 941M/9.34G [00:12<01:35, 94.2MB/s]\u001b[A\n",
      " 10%|▉         | 951M/9.34G [00:12<01:52, 80.4MB/s]\u001b[A\n",
      " 10%|█         | 961M/9.34G [00:13<01:46, 84.4MB/s]\u001b[A\n",
      " 10%|█         | 972M/9.34G [00:13<01:38, 91.1MB/s]\u001b[A\n",
      " 10%|█         | 982M/9.34G [00:13<01:35, 94.4MB/s]\u001b[A\n",
      " 10%|█         | 992M/9.34G [00:13<01:35, 94.1MB/s]\u001b[A\n",
      " 10%|█         | 0.98G/9.34G [00:13<01:37, 91.8MB/s]\u001b[A\n",
      " 11%|█         | 0.99G/9.34G [00:13<02:01, 73.7MB/s]\u001b[A\n",
      " 11%|█         | 1.00G/9.34G [00:13<01:49, 82.1MB/s]\u001b[A\n",
      " 11%|█         | 1.01G/9.34G [00:13<01:42, 87.0MB/s]\u001b[A\n",
      " 11%|█         | 1.02G/9.34G [00:13<01:35, 93.1MB/s]\u001b[A\n",
      " 11%|█         | 1.03G/9.34G [00:14<01:34, 94.0MB/s]\u001b[A\n",
      " 11%|█         | 1.04G/9.34G [00:14<01:33, 95.5MB/s]\u001b[A\n",
      " 11%|█         | 1.05G/9.34G [00:14<01:31, 97.7MB/s]\u001b[A\n",
      " 11%|█▏        | 1.06G/9.34G [00:14<01:27, 101MB/s] \u001b[A\n",
      " 11%|█▏        | 1.07G/9.34G [00:14<01:30, 98.5MB/s]\u001b[A\n",
      " 12%|█▏        | 1.08G/9.34G [00:14<01:32, 96.1MB/s]\u001b[A\n",
      " 12%|█▏        | 1.09G/9.34G [00:14<01:30, 98.2MB/s]\u001b[A\n",
      " 12%|█▏        | 1.10G/9.34G [00:14<01:30, 98.1MB/s]\u001b[A\n",
      " 12%|█▏        | 1.11G/9.34G [00:14<01:31, 97.1MB/s]\u001b[A\n",
      " 12%|█▏        | 1.12G/9.34G [00:15<01:27, 101MB/s] \u001b[A\n",
      " 12%|█▏        | 1.13G/9.34G [00:15<01:27, 101MB/s]\u001b[A\n",
      " 12%|█▏        | 1.14G/9.34G [00:15<01:27, 101MB/s]\u001b[A\n",
      " 12%|█▏        | 1.15G/9.34G [00:15<01:24, 104MB/s]\u001b[A\n",
      " 12%|█▏        | 1.16G/9.34G [00:15<01:40, 87.7MB/s]\u001b[A\n",
      " 13%|█▎        | 1.17G/9.34G [00:15<01:47, 81.9MB/s]\u001b[A\n",
      " 13%|█▎        | 1.18G/9.34G [00:15<01:48, 80.7MB/s]\u001b[A\n",
      " 13%|█▎        | 1.19G/9.34G [00:15<01:45, 83.1MB/s]\u001b[A\n",
      " 13%|█▎        | 1.20G/9.34G [00:15<01:36, 90.7MB/s]\u001b[A\n",
      " 13%|█▎        | 1.21G/9.34G [00:16<01:32, 94.5MB/s]\u001b[A\n",
      " 13%|█▎        | 1.22G/9.34G [00:16<01:32, 94.7MB/s]\u001b[A\n",
      " 13%|█▎        | 1.23G/9.34G [00:16<01:39, 87.9MB/s]\u001b[A\n",
      " 13%|█▎        | 1.24G/9.34G [00:16<01:38, 88.4MB/s]\u001b[A\n",
      " 13%|█▎        | 1.24G/9.34G [00:16<01:37, 89.3MB/s]\u001b[A\n",
      " 13%|█▎        | 1.25G/9.34G [00:16<01:36, 89.8MB/s]\u001b[A\n",
      " 14%|█▎        | 1.26G/9.34G [00:16<01:34, 91.7MB/s]\u001b[A\n",
      " 14%|█▎        | 1.27G/9.34G [00:16<01:49, 79.2MB/s]\u001b[A\n",
      " 14%|█▎        | 1.28G/9.34G [00:17<01:42, 84.6MB/s]\u001b[A\n",
      " 14%|█▍        | 1.29G/9.34G [00:17<01:35, 90.5MB/s]\u001b[A\n",
      " 14%|█▍        | 1.30G/9.34G [00:17<01:29, 95.9MB/s]\u001b[A\n",
      " 14%|█▍        | 1.31G/9.34G [00:17<01:29, 96.3MB/s]\u001b[A\n",
      " 14%|█▍        | 1.32G/9.34G [00:17<01:29, 96.1MB/s]\u001b[A\n",
      " 14%|█▍        | 1.33G/9.34G [00:17<01:25, 100MB/s] \u001b[A\n",
      " 14%|█▍        | 1.34G/9.34G [00:17<01:26, 99.2MB/s]\u001b[A\n",
      " 14%|█▍        | 1.35G/9.34G [00:17<01:49, 78.4MB/s]\u001b[A\n",
      " 15%|█▍        | 1.36G/9.34G [00:17<01:41, 84.2MB/s]\u001b[A\n",
      " 15%|█▍        | 1.37G/9.34G [00:18<01:47, 79.6MB/s]\u001b[A\n",
      " 15%|█▍        | 1.38G/9.34G [00:18<01:43, 82.4MB/s]\u001b[A\n",
      " 15%|█▍        | 1.39G/9.34G [00:18<01:59, 71.2MB/s]\u001b[A\n",
      " 15%|█▌        | 1.40G/9.34G [00:18<01:49, 78.1MB/s]\u001b[A\n",
      " 15%|█▌        | 1.41G/9.34G [00:18<01:49, 77.9MB/s]\u001b[A\n",
      " 15%|█▌        | 1.42G/9.34G [00:18<01:43, 82.5MB/s]\u001b[A\n",
      " 15%|█▌        | 1.43G/9.34G [00:18<01:56, 73.2MB/s]\u001b[A\n",
      " 15%|█▌        | 1.44G/9.34G [00:19<01:45, 80.3MB/s]\u001b[A\n",
      " 16%|█▌        | 1.45G/9.34G [00:19<01:37, 87.0MB/s]\u001b[A\n",
      " 16%|█▌        | 1.46G/9.34G [00:19<01:32, 91.1MB/s]\u001b[A\n",
      " 16%|█▌        | 1.47G/9.34G [00:19<01:32, 91.3MB/s]\u001b[A\n",
      " 16%|█▌        | 1.48G/9.34G [00:19<01:38, 85.5MB/s]\u001b[A\n",
      " 16%|█▌        | 1.49G/9.34G [00:19<01:33, 90.4MB/s]\u001b[A\n",
      " 16%|█▌        | 1.50G/9.34G [00:19<01:30, 92.8MB/s]\u001b[A\n",
      " 16%|█▌        | 1.51G/9.34G [00:19<01:43, 81.2MB/s]\u001b[A\n",
      " 16%|█▌        | 1.52G/9.34G [00:19<01:36, 87.2MB/s]\u001b[A\n",
      " 16%|█▋        | 1.52G/9.34G [00:20<01:54, 73.4MB/s]\u001b[A\n",
      " 16%|█▋        | 1.54G/9.34G [00:20<01:46, 78.9MB/s]\u001b[A\n",
      " 17%|█▋        | 1.54G/9.34G [00:20<01:39, 84.0MB/s]\u001b[A\n",
      " 17%|█▋        | 1.55G/9.34G [00:20<02:02, 68.5MB/s]\u001b[A\n",
      " 17%|█▋        | 1.56G/9.34G [00:20<01:47, 77.8MB/s]\u001b[A\n",
      " 17%|█▋        | 1.57G/9.34G [00:20<01:39, 83.8MB/s]\u001b[A\n",
      " 17%|█▋        | 1.58G/9.34G [00:20<01:37, 85.5MB/s]\u001b[A\n",
      " 17%|█▋        | 1.59G/9.34G [00:20<01:32, 90.2MB/s]\u001b[A\n",
      " 17%|█▋        | 1.60G/9.34G [00:21<01:46, 78.0MB/s]\u001b[A\n",
      " 17%|█▋        | 1.61G/9.34G [00:21<02:11, 62.9MB/s]\u001b[A\n",
      " 17%|█▋        | 1.62G/9.34G [00:21<01:56, 71.2MB/s]\u001b[A\n",
      " 17%|█▋        | 1.63G/9.34G [00:21<01:48, 76.1MB/s]\u001b[A\n",
      " 18%|█▊        | 1.64G/9.34G [00:21<01:43, 79.9MB/s]\u001b[A\n",
      " 18%|█▊        | 1.65G/9.34G [00:21<02:17, 60.1MB/s]\u001b[A\n",
      " 18%|█▊        | 1.66G/9.34G [00:22<01:59, 68.9MB/s]\u001b[A\n",
      " 18%|█▊        | 1.67G/9.34G [00:22<01:44, 78.5MB/s]\u001b[A\n",
      " 18%|█▊        | 1.68G/9.34G [00:22<01:35, 86.4MB/s]\u001b[A\n",
      " 18%|█▊        | 1.69G/9.34G [00:22<01:32, 89.0MB/s]\u001b[A\n",
      " 18%|█▊        | 1.70G/9.34G [00:22<01:29, 91.7MB/s]\u001b[A\n",
      " 18%|█▊        | 1.71G/9.34G [00:22<02:02, 66.8MB/s]\u001b[A\n",
      " 18%|█▊        | 1.72G/9.34G [00:22<01:50, 74.0MB/s]\u001b[A\n",
      " 18%|█▊        | 1.73G/9.34G [00:22<01:59, 68.5MB/s]\u001b[A\n",
      " 19%|█▊        | 1.73G/9.34G [00:23<02:18, 58.8MB/s]\u001b[A\n",
      " 19%|█▊        | 1.74G/9.34G [00:23<02:03, 65.9MB/s]\u001b[A\n",
      " 19%|█▊        | 1.75G/9.34G [00:23<02:15, 60.2MB/s]\u001b[A\n",
      " 19%|█▉        | 1.76G/9.34G [00:23<02:08, 63.5MB/s]\u001b[A\n",
      " 19%|█▉        | 1.77G/9.34G [00:23<01:52, 72.4MB/s]\u001b[A\n",
      " 19%|█▉        | 1.78G/9.34G [00:23<02:00, 67.6MB/s]\u001b[A\n",
      " 19%|█▉        | 1.78G/9.34G [00:24<02:24, 56.0MB/s]\u001b[A\n",
      " 19%|█▉        | 1.79G/9.34G [00:24<02:26, 55.3MB/s]\u001b[A\n",
      " 19%|█▉        | 1.80G/9.34G [00:24<01:59, 67.6MB/s]\u001b[A\n",
      " 19%|█▉        | 1.81G/9.34G [00:24<02:05, 64.3MB/s]\u001b[A\n",
      " 19%|█▉        | 1.82G/9.34G [00:24<01:53, 71.1MB/s]\u001b[A\n",
      " 20%|█▉        | 1.83G/9.34G [00:24<01:38, 81.5MB/s]\u001b[A\n",
      " 20%|█▉        | 1.84G/9.34G [00:24<01:39, 81.2MB/s]\u001b[A\n",
      " 20%|█▉        | 1.85G/9.34G [00:24<01:33, 86.0MB/s]\u001b[A\n",
      " 20%|█▉        | 1.86G/9.34G [00:25<01:52, 71.3MB/s]\u001b[A\n",
      " 20%|█▉        | 1.87G/9.34G [00:25<01:44, 76.6MB/s]\u001b[A\n",
      " 20%|██        | 1.87G/9.34G [00:25<02:09, 61.7MB/s]\u001b[A\n",
      " 20%|██        | 1.88G/9.34G [00:25<01:50, 72.6MB/s]\u001b[A\n",
      " 20%|██        | 1.89G/9.34G [00:25<02:03, 64.7MB/s]\u001b[A\n",
      " 20%|██        | 1.90G/9.34G [00:25<02:07, 62.8MB/s]\u001b[A\n",
      " 20%|██        | 1.91G/9.34G [00:25<01:51, 71.5MB/s]\u001b[A\n",
      " 21%|██        | 1.92G/9.34G [00:26<01:48, 73.6MB/s]\u001b[A\n",
      " 21%|██        | 1.93G/9.34G [00:26<01:59, 66.7MB/s]\u001b[A\n",
      " 21%|██        | 1.94G/9.34G [00:26<01:42, 77.3MB/s]\u001b[A\n",
      " 21%|██        | 1.94G/9.34G [00:26<01:57, 67.6MB/s]\u001b[A\n",
      " 21%|██        | 1.96G/9.34G [00:26<01:43, 76.3MB/s]\u001b[A\n",
      " 21%|██        | 1.96G/9.34G [00:26<01:35, 83.2MB/s]\u001b[A\n",
      " 21%|██        | 1.97G/9.34G [00:26<01:30, 87.8MB/s]\u001b[A\n",
      " 21%|██▏       | 1.98G/9.34G [00:26<01:29, 88.4MB/s]\u001b[A\n",
      " 21%|██▏       | 1.99G/9.34G [00:27<01:48, 73.0MB/s]\u001b[A\n",
      " 21%|██▏       | 2.00G/9.34G [00:27<01:38, 80.1MB/s]\u001b[A\n",
      " 22%|██▏       | 2.01G/9.34G [00:27<01:42, 76.5MB/s]\u001b[A\n",
      " 22%|██▏       | 2.02G/9.34G [00:27<01:41, 77.2MB/s]\u001b[A\n",
      " 22%|██▏       | 2.03G/9.34G [00:27<01:35, 82.2MB/s]\u001b[A\n",
      " 22%|██▏       | 2.04G/9.34G [00:27<02:08, 61.0MB/s]\u001b[A\n",
      " 22%|██▏       | 2.05G/9.34G [00:28<02:29, 52.2MB/s]\u001b[A\n",
      " 22%|██▏       | 2.06G/9.34G [00:28<02:11, 59.6MB/s]\u001b[A\n",
      " 22%|██▏       | 2.07G/9.34G [00:28<01:54, 68.4MB/s]\u001b[A\n",
      " 22%|██▏       | 2.08G/9.34G [00:28<01:50, 70.7MB/s]\u001b[A\n",
      " 22%|██▏       | 2.09G/9.34G [00:28<01:36, 80.5MB/s]\u001b[A\n",
      " 22%|██▏       | 2.09G/9.34G [00:28<02:11, 59.3MB/s]\u001b[A\n",
      " 23%|██▎       | 2.10G/9.34G [00:28<02:01, 64.1MB/s]\u001b[A\n",
      " 23%|██▎       | 2.11G/9.34G [00:28<01:46, 73.0MB/s]\u001b[A\n",
      " 23%|██▎       | 2.12G/9.34G [00:29<01:48, 71.7MB/s]\u001b[A\n",
      " 23%|██▎       | 2.13G/9.34G [00:29<01:35, 81.3MB/s]\u001b[A\n",
      " 23%|██▎       | 2.14G/9.34G [00:29<01:26, 88.8MB/s]\u001b[A\n",
      " 23%|██▎       | 2.15G/9.34G [00:29<01:25, 90.7MB/s]\u001b[A\n",
      " 23%|██▎       | 2.16G/9.34G [00:29<01:21, 94.3MB/s]\u001b[A\n",
      " 23%|██▎       | 2.17G/9.34G [00:29<01:18, 98.5MB/s]\u001b[A\n",
      " 23%|██▎       | 2.18G/9.34G [00:29<01:23, 91.8MB/s]\u001b[A\n",
      " 24%|██▎       | 2.19G/9.34G [00:29<01:20, 94.8MB/s]\u001b[A\n",
      " 24%|██▎       | 2.21G/9.34G [00:29<01:18, 98.0MB/s]\u001b[A\n",
      " 24%|██▎       | 2.22G/9.34G [00:30<01:15, 101MB/s] \u001b[A\n",
      " 24%|██▍       | 2.23G/9.34G [00:30<01:15, 101MB/s]\u001b[A\n",
      " 24%|██▍       | 2.24G/9.34G [00:30<01:15, 101MB/s]\u001b[A\n",
      " 24%|██▍       | 2.25G/9.34G [00:30<01:13, 103MB/s]\u001b[A\n",
      " 24%|██▍       | 2.26G/9.34G [00:30<01:14, 102MB/s]\u001b[A\n",
      " 24%|██▍       | 2.27G/9.34G [00:30<01:15, 101MB/s]\u001b[A\n",
      " 24%|██▍       | 2.28G/9.34G [00:30<01:13, 104MB/s]\u001b[A\n",
      " 24%|██▍       | 2.29G/9.34G [00:30<01:14, 101MB/s]\u001b[A\n",
      " 25%|██▍       | 2.30G/9.34G [00:30<01:15, 99.7MB/s]\u001b[A\n",
      " 25%|██▍       | 2.31G/9.34G [00:31<01:13, 103MB/s] \u001b[A\n",
      " 25%|██▍       | 2.32G/9.34G [00:31<01:14, 101MB/s]\u001b[A\n",
      " 25%|██▍       | 2.33G/9.34G [00:31<01:14, 101MB/s]\u001b[A\n",
      " 25%|██▌       | 2.34G/9.34G [00:31<01:16, 98.3MB/s]\u001b[A\n",
      " 25%|██▌       | 2.35G/9.34G [00:31<01:16, 98.4MB/s]\u001b[A\n",
      " 25%|██▌       | 2.36G/9.34G [00:31<01:15, 99.9MB/s]\u001b[A\n",
      " 25%|██▌       | 2.37G/9.34G [00:31<01:12, 103MB/s] \u001b[A\n",
      " 25%|██▌       | 2.38G/9.34G [00:31<01:14, 100MB/s]\u001b[A\n",
      " 26%|██▌       | 2.39G/9.34G [00:31<01:15, 98.8MB/s]\u001b[A\n",
      " 26%|██▌       | 2.40G/9.34G [00:32<01:14, 100MB/s] \u001b[A\n",
      " 26%|██▌       | 2.41G/9.34G [00:32<01:12, 103MB/s]\u001b[A\n",
      " 26%|██▌       | 2.42G/9.34G [00:32<01:13, 102MB/s]\u001b[A\n",
      " 26%|██▌       | 2.43G/9.34G [00:32<01:12, 102MB/s]\u001b[A\n",
      " 26%|██▌       | 2.44G/9.34G [00:32<01:10, 105MB/s]\u001b[A\n",
      " 26%|██▌       | 2.45G/9.34G [00:32<01:15, 97.9MB/s]\u001b[A\n",
      " 26%|██▋       | 2.46G/9.34G [00:32<01:13, 101MB/s] \u001b[A\n",
      " 26%|██▋       | 2.47G/9.34G [00:32<01:11, 104MB/s]\u001b[A\n",
      " 27%|██▋       | 2.48G/9.34G [00:32<01:11, 103MB/s]\u001b[A\n",
      " 27%|██▋       | 2.49G/9.34G [00:32<01:12, 102MB/s]\u001b[A\n",
      " 27%|██▋       | 2.50G/9.34G [00:33<01:10, 104MB/s]\u001b[A\n",
      " 27%|██▋       | 2.51G/9.34G [00:33<01:11, 102MB/s]\u001b[A\n",
      " 27%|██▋       | 2.52G/9.34G [00:33<01:11, 103MB/s]\u001b[A\n",
      " 27%|██▋       | 2.53G/9.34G [00:33<01:11, 102MB/s]\u001b[A\n",
      " 27%|██▋       | 2.54G/9.34G [00:33<01:12, 100MB/s]\u001b[A\n",
      " 27%|██▋       | 2.55G/9.34G [00:33<01:10, 103MB/s]\u001b[A\n",
      " 27%|██▋       | 2.56G/9.34G [00:33<01:10, 103MB/s]\u001b[A\n",
      " 28%|██▊       | 2.57G/9.34G [00:33<01:11, 102MB/s]\u001b[A\n",
      " 28%|██▊       | 2.58G/9.34G [00:33<01:09, 105MB/s]\u001b[A\n",
      " 28%|██▊       | 2.59G/9.34G [00:34<01:10, 103MB/s]\u001b[A\n",
      " 28%|██▊       | 2.60G/9.34G [00:34<01:10, 102MB/s]\u001b[A\n",
      " 28%|██▊       | 2.61G/9.34G [00:34<01:08, 105MB/s]\u001b[A\n",
      " 28%|██▊       | 2.62G/9.34G [00:34<01:10, 103MB/s]\u001b[A\n",
      " 28%|██▊       | 2.63G/9.34G [00:34<01:09, 103MB/s]\u001b[A\n",
      " 28%|██▊       | 2.64G/9.34G [00:34<02:19, 51.5MB/s]\u001b[A\n",
      " 28%|██▊       | 2.66G/9.34G [00:35<01:41, 70.9MB/s]\u001b[A\n",
      " 29%|██▊       | 2.67G/9.34G [00:35<01:30, 78.9MB/s]\u001b[A\n",
      " 29%|██▊       | 2.68G/9.34G [00:35<01:23, 85.9MB/s]\u001b[A\n",
      " 29%|██▉       | 2.69G/9.34G [00:35<01:17, 91.6MB/s]\u001b[A\n",
      " 29%|██▉       | 2.70G/9.34G [00:35<01:13, 96.5MB/s]\u001b[A\n",
      " 29%|██▉       | 2.71G/9.34G [00:35<01:11, 100MB/s] \u001b[A\n",
      " 29%|██▉       | 2.72G/9.34G [00:35<01:11, 99.4MB/s]\u001b[A\n",
      " 29%|██▉       | 2.73G/9.34G [00:35<01:09, 102MB/s] \u001b[A\n",
      " 29%|██▉       | 2.74G/9.34G [00:35<01:19, 89.2MB/s]\u001b[A\n",
      " 30%|██▉       | 2.76G/9.34G [00:36<01:14, 95.0MB/s]\u001b[A\n",
      " 30%|██▉       | 2.77G/9.34G [00:36<01:11, 98.8MB/s]\u001b[A\n",
      " 30%|██▉       | 2.78G/9.34G [00:36<01:12, 96.9MB/s]\u001b[A\n",
      " 30%|██▉       | 2.79G/9.34G [00:36<01:15, 93.7MB/s]\u001b[A\n",
      " 30%|██▉       | 2.80G/9.34G [00:36<01:12, 96.2MB/s]\u001b[A\n",
      " 30%|███       | 2.81G/9.34G [00:36<01:12, 96.4MB/s]\u001b[A\n",
      " 30%|███       | 2.82G/9.34G [00:36<01:13, 95.3MB/s]\u001b[A\n",
      " 30%|███       | 2.83G/9.34G [00:36<01:11, 98.3MB/s]\u001b[A\n",
      " 30%|███       | 2.84G/9.34G [00:36<01:09, 100MB/s] \u001b[A\n",
      " 30%|███       | 2.85G/9.34G [00:37<01:09, 99.7MB/s]\u001b[A\n",
      " 31%|███       | 2.86G/9.34G [00:37<01:07, 103MB/s] \u001b[A\n",
      " 31%|███       | 2.87G/9.34G [00:37<01:08, 101MB/s]\u001b[A\n",
      " 31%|███       | 2.88G/9.34G [00:37<01:07, 102MB/s]\u001b[A\n",
      " 31%|███       | 2.89G/9.34G [00:37<01:06, 104MB/s]\u001b[A\n",
      " 31%|███       | 2.90G/9.34G [00:37<01:07, 103MB/s]\u001b[A\n",
      " 31%|███       | 2.91G/9.34G [00:37<01:06, 103MB/s]\u001b[A\n",
      " 31%|███       | 2.92G/9.34G [00:37<01:07, 102MB/s]\u001b[A\n",
      " 31%|███▏      | 2.93G/9.34G [00:37<01:10, 98.3MB/s]\u001b[A\n",
      " 31%|███▏      | 2.94G/9.34G [00:38<01:19, 86.4MB/s]\u001b[A\n",
      " 32%|███▏      | 2.95G/9.34G [00:38<01:17, 88.2MB/s]\u001b[A\n",
      " 32%|███▏      | 2.96G/9.34G [00:38<01:16, 89.7MB/s]\u001b[A\n",
      " 32%|███▏      | 2.97G/9.34G [00:38<01:26, 79.0MB/s]\u001b[A\n",
      " 32%|███▏      | 2.98G/9.34G [00:38<01:20, 84.5MB/s]\u001b[A\n",
      " 32%|███▏      | 2.99G/9.34G [00:38<01:16, 89.6MB/s]\u001b[A\n",
      " 32%|███▏      | 3.00G/9.34G [00:38<01:15, 90.6MB/s]\u001b[A\n",
      " 32%|███▏      | 3.01G/9.34G [00:38<01:09, 98.1MB/s]\u001b[A\n",
      " 32%|███▏      | 3.02G/9.34G [00:38<01:06, 101MB/s] \u001b[A\n",
      " 32%|███▏      | 3.03G/9.34G [00:39<01:06, 102MB/s]\u001b[A\n",
      " 33%|███▎      | 3.04G/9.34G [00:39<01:07, 101MB/s]\u001b[A\n",
      " 33%|███▎      | 3.05G/9.34G [00:39<01:07, 99.6MB/s]\u001b[A\n",
      " 33%|███▎      | 3.06G/9.34G [00:39<01:06, 101MB/s] \u001b[A\n",
      " 33%|███▎      | 3.07G/9.34G [00:39<01:04, 104MB/s]\u001b[A\n",
      " 33%|███▎      | 3.08G/9.34G [00:39<01:06, 102MB/s]\u001b[A\n",
      " 33%|███▎      | 3.09G/9.34G [00:39<01:09, 96.8MB/s]\u001b[A\n",
      " 33%|███▎      | 3.10G/9.34G [00:39<01:07, 98.8MB/s]\u001b[A\n",
      " 33%|███▎      | 3.11G/9.34G [00:40<02:20, 47.8MB/s]\u001b[A\n",
      " 33%|███▎      | 3.12G/9.34G [00:40<01:47, 61.9MB/s]\u001b[A\n",
      " 34%|███▎      | 3.13G/9.34G [00:40<01:44, 64.1MB/s]\u001b[A\n",
      " 34%|███▎      | 3.14G/9.34G [00:40<01:36, 68.7MB/s]\u001b[A\n",
      " 34%|███▎      | 3.15G/9.34G [00:40<01:25, 78.1MB/s]\u001b[A\n",
      " 34%|███▍      | 3.16G/9.34G [00:40<01:24, 78.6MB/s]\u001b[A\n",
      " 34%|███▍      | 3.17G/9.34G [00:40<01:16, 86.6MB/s]\u001b[A\n",
      " 34%|███▍      | 3.18G/9.34G [00:41<01:13, 89.8MB/s]\u001b[A\n",
      " 34%|███▍      | 3.19G/9.34G [00:41<01:09, 95.2MB/s]\u001b[A\n",
      " 34%|███▍      | 3.20G/9.34G [00:41<02:00, 54.8MB/s]\u001b[A\n",
      " 34%|███▍      | 3.21G/9.34G [00:41<02:13, 49.3MB/s]\u001b[A\n",
      " 34%|███▍      | 3.21G/9.34G [00:41<02:15, 48.4MB/s]\u001b[A\n",
      " 35%|███▍      | 3.22G/9.34G [00:42<01:53, 57.9MB/s]\u001b[A\n",
      " 35%|███▍      | 3.23G/9.34G [00:42<01:35, 68.3MB/s]\u001b[A\n",
      " 35%|███▍      | 3.24G/9.34G [00:42<01:23, 78.0MB/s]\u001b[A\n",
      " 35%|███▍      | 3.25G/9.34G [00:42<01:19, 81.8MB/s]\u001b[A\n",
      " 35%|███▍      | 3.26G/9.34G [00:42<01:13, 89.2MB/s]\u001b[A\n",
      " 35%|███▌      | 3.27G/9.34G [00:42<01:08, 94.9MB/s]\u001b[A\n",
      " 35%|███▌      | 3.28G/9.34G [00:42<01:07, 95.9MB/s]\u001b[A\n",
      " 35%|███▌      | 3.29G/9.34G [00:42<01:06, 98.3MB/s]\u001b[A\n",
      " 35%|███▌      | 3.30G/9.34G [00:42<01:04, 99.7MB/s]\u001b[A\n",
      " 35%|███▌      | 3.31G/9.34G [00:43<01:04, 99.7MB/s]\u001b[A\n",
      " 36%|███▌      | 3.32G/9.34G [00:43<01:07, 95.5MB/s]\u001b[A\n",
      " 36%|███▌      | 3.33G/9.34G [00:43<01:13, 88.1MB/s]\u001b[A\n",
      " 36%|███▌      | 3.34G/9.34G [00:43<01:11, 89.5MB/s]\u001b[A\n",
      " 36%|███▌      | 3.35G/9.34G [00:43<01:11, 89.7MB/s]\u001b[A\n",
      " 36%|███▌      | 3.36G/9.34G [00:43<01:08, 93.5MB/s]\u001b[A\n",
      " 36%|███▌      | 3.37G/9.34G [00:43<01:14, 85.5MB/s]\u001b[A\n",
      " 36%|███▌      | 3.38G/9.34G [00:43<01:12, 88.7MB/s]\u001b[A\n",
      " 36%|███▋      | 3.39G/9.34G [00:43<01:07, 94.5MB/s]\u001b[A\n",
      " 36%|███▋      | 3.40G/9.34G [00:44<01:06, 95.4MB/s]\u001b[A\n",
      " 37%|███▋      | 3.41G/9.34G [00:44<01:16, 82.8MB/s]\u001b[A\n",
      " 37%|███▋      | 3.42G/9.34G [00:44<01:12, 87.5MB/s]\u001b[A\n",
      " 37%|███▋      | 3.43G/9.34G [00:44<01:07, 93.5MB/s]\u001b[A\n",
      " 37%|███▋      | 3.44G/9.34G [00:44<01:06, 94.7MB/s]\u001b[A\n",
      " 37%|███▋      | 3.45G/9.34G [00:44<01:06, 95.0MB/s]\u001b[A\n",
      " 37%|███▋      | 3.46G/9.34G [00:44<01:03, 99.3MB/s]\u001b[A\n",
      " 37%|███▋      | 3.47G/9.34G [00:44<01:02, 100MB/s] \u001b[A\n",
      " 37%|███▋      | 3.48G/9.34G [00:44<01:03, 99.0MB/s]\u001b[A\n",
      " 37%|███▋      | 3.49G/9.34G [00:45<01:01, 102MB/s] \u001b[A\n",
      " 38%|███▊      | 3.50G/9.34G [00:45<01:02, 101MB/s]\u001b[A\n",
      " 38%|███▊      | 3.51G/9.34G [00:45<01:01, 101MB/s]\u001b[A\n",
      " 38%|███▊      | 3.52G/9.34G [00:45<01:02, 100MB/s]\u001b[A\n",
      " 38%|███▊      | 3.53G/9.34G [00:45<01:01, 101MB/s]\u001b[A\n",
      " 38%|███▊      | 3.54G/9.34G [00:45<01:00, 103MB/s]\u001b[A\n",
      " 38%|███▊      | 3.55G/9.34G [00:45<01:00, 102MB/s]\u001b[A\n",
      " 38%|███▊      | 3.56G/9.34G [00:45<01:00, 102MB/s]\u001b[A\n",
      " 38%|███▊      | 3.58G/9.34G [00:45<00:59, 104MB/s]\u001b[A\n",
      " 38%|███▊      | 3.58G/9.34G [00:46<01:00, 102MB/s]\u001b[A\n",
      " 39%|███▊      | 3.59G/9.34G [00:46<00:59, 103MB/s]\u001b[A\n",
      " 39%|███▊      | 3.61G/9.34G [00:46<00:58, 105MB/s]\u001b[A\n",
      " 39%|███▊      | 3.62G/9.34G [00:46<00:58, 105MB/s]\u001b[A\n",
      " 39%|███▉      | 3.63G/9.34G [00:46<01:05, 94.2MB/s]\u001b[A\n",
      " 39%|███▉      | 3.64G/9.34G [00:46<01:03, 96.9MB/s]\u001b[A\n",
      " 39%|███▉      | 3.65G/9.34G [00:46<01:03, 96.9MB/s]\u001b[A\n",
      " 39%|███▉      | 3.66G/9.34G [00:46<01:06, 91.9MB/s]\u001b[A\n",
      " 39%|███▉      | 3.67G/9.34G [00:46<01:04, 94.1MB/s]\u001b[A\n",
      " 39%|███▉      | 3.68G/9.34G [00:47<01:06, 92.0MB/s]\u001b[A\n",
      " 39%|███▉      | 3.69G/9.34G [00:47<01:02, 96.9MB/s]\u001b[A\n",
      " 40%|███▉      | 3.70G/9.34G [00:47<01:00, 101MB/s] \u001b[A\n",
      " 40%|███▉      | 3.71G/9.34G [00:47<01:01, 98.8MB/s]\u001b[A\n",
      " 40%|███▉      | 3.72G/9.34G [00:47<01:01, 98.6MB/s]\u001b[A\n",
      " 40%|███▉      | 3.73G/9.34G [00:47<00:59, 102MB/s] \u001b[A\n",
      " 40%|████      | 3.74G/9.34G [00:47<00:59, 101MB/s]\u001b[A\n",
      " 40%|████      | 3.75G/9.34G [00:47<00:58, 103MB/s]\u001b[A\n",
      " 40%|████      | 3.76G/9.34G [00:47<00:56, 105MB/s]\u001b[A\n",
      " 40%|████      | 3.77G/9.34G [00:48<00:56, 105MB/s]\u001b[A\n",
      " 40%|████      | 3.78G/9.34G [00:48<01:08, 86.5MB/s]\u001b[A\n",
      " 41%|████      | 3.79G/9.34G [00:48<01:07, 88.5MB/s]\u001b[A\n",
      " 41%|████      | 3.80G/9.34G [00:48<01:04, 92.0MB/s]\u001b[A\n",
      " 41%|████      | 3.81G/9.34G [00:48<01:02, 94.2MB/s]\u001b[A\n",
      " 41%|████      | 3.82G/9.34G [00:48<01:01, 97.1MB/s]\u001b[A\n",
      " 41%|████      | 3.83G/9.34G [00:48<01:09, 85.2MB/s]\u001b[A\n",
      " 41%|████      | 3.84G/9.34G [00:48<01:04, 91.5MB/s]\u001b[A\n",
      " 41%|████      | 3.85G/9.34G [00:49<01:05, 89.6MB/s]\u001b[A\n",
      " 41%|████▏     | 3.86G/9.34G [00:49<01:03, 92.1MB/s]\u001b[A\n",
      " 41%|████▏     | 3.87G/9.34G [00:49<01:01, 95.1MB/s]\u001b[A\n",
      " 42%|████▏     | 3.88G/9.34G [00:49<01:01, 95.6MB/s]\u001b[A\n",
      " 42%|████▏     | 3.89G/9.34G [00:49<01:11, 82.1MB/s]\u001b[A\n",
      " 42%|████▏     | 3.90G/9.34G [00:49<01:08, 85.0MB/s]\u001b[A\n",
      " 42%|████▏     | 3.91G/9.34G [00:49<01:04, 90.7MB/s]\u001b[A\n",
      " 42%|████▏     | 3.92G/9.34G [00:49<01:00, 96.0MB/s]\u001b[A\n",
      " 42%|████▏     | 3.93G/9.34G [00:50<01:20, 72.4MB/s]\u001b[A\n",
      " 42%|████▏     | 3.94G/9.34G [00:50<01:06, 86.4MB/s]\u001b[A\n",
      " 42%|████▏     | 3.96G/9.34G [00:50<01:02, 92.2MB/s]\u001b[A\n",
      " 42%|████▏     | 3.96G/9.34G [00:50<01:01, 94.4MB/s]\u001b[A\n",
      " 43%|████▎     | 3.97G/9.34G [00:50<01:02, 92.4MB/s]\u001b[A\n",
      " 43%|████▎     | 3.98G/9.34G [00:50<01:05, 87.6MB/s]\u001b[A\n",
      " 43%|████▎     | 3.99G/9.34G [00:50<01:29, 64.4MB/s]\u001b[A\n",
      " 43%|████▎     | 4.00G/9.34G [00:51<01:19, 71.6MB/s]\u001b[A\n",
      " 43%|████▎     | 4.01G/9.34G [00:51<01:13, 78.0MB/s]\u001b[A\n",
      " 43%|████▎     | 4.02G/9.34G [00:51<01:06, 85.2MB/s]\u001b[A\n",
      " 43%|████▎     | 4.03G/9.34G [00:51<01:01, 91.9MB/s]\u001b[A\n",
      " 43%|████▎     | 4.04G/9.34G [00:51<01:00, 93.4MB/s]\u001b[A\n",
      " 43%|████▎     | 4.05G/9.34G [00:51<00:58, 96.3MB/s]\u001b[A\n",
      " 44%|████▎     | 4.06G/9.34G [00:51<01:20, 70.2MB/s]\u001b[A\n",
      " 44%|████▎     | 4.07G/9.34G [00:51<01:13, 77.2MB/s]\u001b[A\n",
      " 44%|████▎     | 4.08G/9.34G [00:52<01:14, 75.7MB/s]\u001b[A\n",
      " 44%|████▍     | 4.09G/9.34G [00:52<01:06, 84.2MB/s]\u001b[A\n",
      " 44%|████▍     | 4.10G/9.34G [00:52<01:01, 91.0MB/s]\u001b[A\n",
      " 44%|████▍     | 4.11G/9.34G [00:52<01:00, 92.3MB/s]\u001b[A\n",
      " 44%|████▍     | 4.12G/9.34G [00:52<00:57, 97.1MB/s]\u001b[A\n",
      " 44%|████▍     | 4.13G/9.34G [00:52<00:55, 101MB/s] \u001b[A\n",
      " 44%|████▍     | 4.14G/9.34G [00:52<00:55, 100MB/s]\u001b[A\n",
      " 44%|████▍     | 4.15G/9.34G [00:52<01:06, 84.1MB/s]\u001b[A\n",
      " 45%|████▍     | 4.16G/9.34G [00:52<01:04, 85.9MB/s]\u001b[A\n",
      " 45%|████▍     | 4.17G/9.34G [00:53<01:00, 92.1MB/s]\u001b[A\n",
      " 45%|████▍     | 4.18G/9.34G [00:53<01:09, 80.1MB/s]\u001b[A\n",
      " 45%|████▍     | 4.19G/9.34G [00:53<01:06, 82.7MB/s]\u001b[A\n",
      " 45%|████▌     | 4.20G/9.34G [00:53<01:02, 88.3MB/s]\u001b[A\n",
      " 45%|████▌     | 4.21G/9.34G [00:53<01:01, 89.0MB/s]\u001b[A\n",
      " 45%|████▌     | 4.22G/9.34G [00:53<01:03, 86.6MB/s]\u001b[A\n",
      " 45%|████▌     | 4.23G/9.34G [00:53<01:01, 89.8MB/s]\u001b[A\n",
      " 45%|████▌     | 4.24G/9.34G [00:53<00:57, 95.7MB/s]\u001b[A\n",
      " 46%|████▌     | 4.25G/9.34G [00:53<00:56, 96.8MB/s]\u001b[A\n",
      " 46%|████▌     | 4.26G/9.34G [00:54<00:57, 94.9MB/s]\u001b[A\n",
      " 46%|████▌     | 4.27G/9.34G [00:54<00:56, 96.0MB/s]\u001b[A\n",
      " 46%|████▌     | 4.28G/9.34G [00:54<00:54, 100MB/s] \u001b[A\n",
      " 46%|████▌     | 4.29G/9.34G [00:54<01:09, 77.8MB/s]\u001b[A\n",
      " 46%|████▌     | 4.30G/9.34G [00:54<01:07, 80.4MB/s]\u001b[A\n",
      " 46%|████▌     | 4.31G/9.34G [00:54<01:15, 71.2MB/s]\u001b[A\n",
      " 46%|████▋     | 4.32G/9.34G [00:54<01:09, 77.4MB/s]\u001b[A\n",
      " 46%|████▋     | 4.33G/9.34G [00:55<01:02, 85.4MB/s]\u001b[A\n",
      " 46%|████▋     | 4.34G/9.34G [00:55<00:59, 89.8MB/s]\u001b[A\n",
      " 47%|████▋     | 4.35G/9.34G [00:55<00:58, 91.4MB/s]\u001b[A\n",
      " 47%|████▋     | 4.36G/9.34G [00:55<00:57, 93.5MB/s]\u001b[A\n",
      " 47%|████▋     | 4.37G/9.34G [00:55<01:10, 75.2MB/s]\u001b[A\n",
      " 47%|████▋     | 4.38G/9.34G [00:55<01:06, 79.6MB/s]\u001b[A\n",
      " 47%|████▋     | 4.39G/9.34G [00:55<01:00, 87.2MB/s]\u001b[A\n",
      " 47%|████▋     | 4.40G/9.34G [00:55<01:00, 87.8MB/s]\u001b[A\n",
      " 47%|████▋     | 4.41G/9.34G [00:56<00:56, 92.9MB/s]\u001b[A\n",
      " 47%|████▋     | 4.42G/9.34G [00:56<00:54, 96.5MB/s]\u001b[A\n",
      " 47%|████▋     | 4.43G/9.34G [00:56<00:52, 99.9MB/s]\u001b[A\n",
      " 48%|████▊     | 4.44G/9.34G [00:56<00:52, 99.9MB/s]\u001b[A\n",
      " 48%|████▊     | 4.45G/9.34G [00:56<00:51, 101MB/s] \u001b[A\n",
      " 48%|████▊     | 4.46G/9.34G [00:56<00:51, 101MB/s]\u001b[A\n",
      " 48%|████▊     | 4.47G/9.34G [00:56<00:52, 99.6MB/s]\u001b[A\n",
      " 48%|████▊     | 4.48G/9.34G [00:56<00:50, 103MB/s] \u001b[A\n",
      " 48%|████▊     | 4.49G/9.34G [00:56<00:50, 103MB/s]\u001b[A\n",
      " 48%|████▊     | 4.50G/9.34G [00:56<00:51, 102MB/s]\u001b[A\n",
      " 48%|████▊     | 4.51G/9.34G [00:57<00:53, 97.3MB/s]\u001b[A\n",
      " 48%|████▊     | 4.52G/9.34G [00:57<00:54, 94.9MB/s]\u001b[A\n",
      " 49%|████▊     | 4.53G/9.34G [00:57<00:52, 97.4MB/s]\u001b[A\n",
      " 49%|████▊     | 4.54G/9.34G [00:57<00:57, 89.7MB/s]\u001b[A\n",
      " 49%|████▊     | 4.55G/9.34G [00:57<00:55, 93.3MB/s]\u001b[A\n",
      " 49%|████▉     | 4.56G/9.34G [00:57<00:55, 92.6MB/s]\u001b[A\n",
      " 49%|████▉     | 4.57G/9.34G [00:57<00:53, 95.5MB/s]\u001b[A\n",
      " 49%|████▉     | 4.58G/9.34G [00:57<00:51, 99.5MB/s]\u001b[A\n",
      " 49%|████▉     | 4.59G/9.34G [00:57<00:49, 102MB/s] \u001b[A\n",
      " 49%|████▉     | 4.60G/9.34G [00:58<00:50, 101MB/s]\u001b[A\n",
      " 49%|████▉     | 4.61G/9.34G [00:58<00:50, 101MB/s]\u001b[A\n",
      " 50%|████▉     | 4.62G/9.34G [00:58<00:49, 103MB/s]\u001b[A\n",
      " 50%|████▉     | 4.63G/9.34G [00:58<00:49, 102MB/s]\u001b[A\n",
      " 50%|████▉     | 4.64G/9.34G [00:58<00:58, 86.9MB/s]\u001b[A\n",
      " 50%|████▉     | 4.65G/9.34G [00:58<00:55, 90.8MB/s]\u001b[A\n",
      " 50%|████▉     | 4.66G/9.34G [00:58<00:54, 92.1MB/s]\u001b[A\n",
      " 50%|█████     | 4.67G/9.34G [00:58<00:52, 95.5MB/s]\u001b[A\n",
      " 50%|█████     | 4.68G/9.34G [00:58<00:51, 96.7MB/s]\u001b[A\n",
      " 50%|█████     | 4.69G/9.34G [00:59<00:49, 100MB/s] \u001b[A\n",
      " 50%|█████     | 4.70G/9.34G [00:59<00:54, 91.1MB/s]\u001b[A\n",
      " 50%|█████     | 4.71G/9.34G [00:59<00:56, 88.2MB/s]\u001b[A\n",
      " 51%|█████     | 4.72G/9.34G [00:59<00:53, 92.2MB/s]\u001b[A\n",
      " 51%|█████     | 4.73G/9.34G [00:59<00:52, 93.7MB/s]\u001b[A\n",
      " 51%|█████     | 4.74G/9.34G [00:59<00:50, 98.3MB/s]\u001b[A\n",
      " 51%|█████     | 4.75G/9.34G [00:59<00:49, 100MB/s] \u001b[A\n",
      " 51%|█████     | 4.76G/9.34G [00:59<00:49, 99.4MB/s]\u001b[A\n",
      " 51%|█████     | 4.77G/9.34G [00:59<00:47, 102MB/s] \u001b[A\n",
      " 51%|█████     | 4.78G/9.34G [01:00<00:47, 102MB/s]\u001b[A\n",
      " 51%|█████▏    | 4.79G/9.34G [01:00<00:48, 102MB/s]\u001b[A\n",
      " 51%|█████▏    | 4.80G/9.34G [01:00<00:46, 104MB/s]\u001b[A\n",
      " 52%|█████▏    | 4.81G/9.34G [01:00<00:47, 101MB/s]\u001b[A\n",
      " 52%|█████▏    | 4.82G/9.34G [01:00<00:47, 102MB/s]\u001b[A\n",
      " 52%|█████▏    | 4.83G/9.34G [01:00<00:46, 103MB/s]\u001b[A\n",
      " 52%|█████▏    | 4.84G/9.34G [01:00<00:47, 101MB/s]\u001b[A\n",
      " 52%|█████▏    | 4.85G/9.34G [01:00<00:46, 103MB/s]\u001b[A\n",
      " 52%|█████▏    | 4.86G/9.34G [01:00<00:46, 103MB/s]\u001b[A\n",
      " 52%|█████▏    | 4.87G/9.34G [01:01<00:47, 101MB/s]\u001b[A\n",
      " 52%|█████▏    | 4.88G/9.34G [01:01<00:45, 104MB/s]\u001b[A\n",
      " 52%|█████▏    | 4.89G/9.34G [01:01<00:47, 99.8MB/s]\u001b[A\n",
      " 53%|█████▎    | 4.90G/9.34G [01:01<00:47, 100MB/s] \u001b[A\n",
      " 53%|█████▎    | 4.91G/9.34G [01:01<00:47, 99.3MB/s]\u001b[A\n",
      " 53%|█████▎    | 4.93G/9.34G [01:01<00:46, 102MB/s] \u001b[A\n",
      " 53%|█████▎    | 4.94G/9.34G [01:01<00:45, 105MB/s]\u001b[A\n",
      " 53%|█████▎    | 4.95G/9.34G [01:01<00:45, 103MB/s]\u001b[A\n",
      " 53%|█████▎    | 4.96G/9.34G [01:01<00:44, 105MB/s]\u001b[A\n",
      " 53%|█████▎    | 4.97G/9.34G [01:02<00:51, 91.9MB/s]\u001b[A\n",
      " 53%|█████▎    | 4.98G/9.34G [01:02<01:01, 76.7MB/s]\u001b[A\n",
      " 53%|█████▎    | 4.99G/9.34G [01:02<00:55, 84.5MB/s]\u001b[A\n",
      " 54%|█████▎    | 5.00G/9.34G [01:02<00:51, 90.8MB/s]\u001b[A\n",
      " 54%|█████▎    | 5.01G/9.34G [01:02<00:50, 92.5MB/s]\u001b[A\n",
      " 54%|█████▍    | 5.02G/9.34G [01:02<00:48, 95.1MB/s]\u001b[A\n",
      " 54%|█████▍    | 5.03G/9.34G [01:02<01:06, 69.6MB/s]\u001b[A\n",
      " 54%|█████▍    | 5.04G/9.34G [01:03<00:59, 77.7MB/s]\u001b[A\n",
      " 54%|█████▍    | 5.05G/9.34G [01:03<00:57, 80.5MB/s]\u001b[A\n",
      " 54%|█████▍    | 5.06G/9.34G [01:03<00:53, 85.8MB/s]\u001b[A\n",
      " 54%|█████▍    | 5.07G/9.34G [01:03<00:55, 82.8MB/s]\u001b[A\n",
      " 54%|█████▍    | 5.08G/9.34G [01:03<01:02, 73.6MB/s]\u001b[A\n",
      " 54%|█████▍    | 5.08G/9.34G [01:03<00:58, 77.8MB/s]\u001b[A\n",
      " 55%|█████▍    | 5.09G/9.34G [01:03<00:52, 86.2MB/s]\u001b[A\n",
      " 55%|█████▍    | 5.11G/9.34G [01:03<00:49, 92.3MB/s]\u001b[A\n",
      " 55%|█████▍    | 5.12G/9.34G [01:03<00:48, 93.1MB/s]\u001b[A\n",
      " 55%|█████▍    | 5.12G/9.34G [01:04<00:48, 93.5MB/s]\u001b[A\n",
      " 55%|█████▍    | 5.13G/9.34G [01:04<00:46, 96.5MB/s]\u001b[A\n",
      " 55%|█████▌    | 5.14G/9.34G [01:04<00:46, 97.8MB/s]\u001b[A\n",
      " 55%|█████▌    | 5.15G/9.34G [01:04<00:45, 99.3MB/s]\u001b[A\n",
      " 55%|█████▌    | 5.17G/9.34G [01:04<00:43, 103MB/s] \u001b[A\n",
      " 55%|█████▌    | 5.18G/9.34G [01:04<00:42, 105MB/s]\u001b[A\n",
      " 56%|█████▌    | 5.19G/9.34G [01:04<00:42, 104MB/s]\u001b[A\n",
      " 56%|█████▌    | 5.20G/9.34G [01:04<00:45, 96.9MB/s]\u001b[A\n",
      " 56%|█████▌    | 5.21G/9.34G [01:04<00:48, 90.8MB/s]\u001b[A\n",
      " 56%|█████▌    | 5.22G/9.34G [01:05<00:50, 88.4MB/s]\u001b[A\n",
      " 56%|█████▌    | 5.22G/9.34G [01:05<00:49, 88.6MB/s]\u001b[A\n",
      " 56%|█████▌    | 5.24G/9.34G [01:05<00:47, 93.1MB/s]\u001b[A\n",
      " 56%|█████▌    | 5.25G/9.34G [01:05<00:44, 97.8MB/s]\u001b[A\n",
      " 56%|█████▋    | 5.26G/9.34G [01:05<00:44, 98.9MB/s]\u001b[A\n",
      " 56%|█████▋    | 5.27G/9.34G [01:05<00:44, 98.7MB/s]\u001b[A\n",
      " 57%|█████▋    | 5.28G/9.34G [01:05<00:54, 80.5MB/s]\u001b[A\n",
      " 57%|█████▋    | 5.28G/9.34G [01:05<00:55, 78.8MB/s]\u001b[A\n",
      " 57%|█████▋    | 5.29G/9.34G [01:06<00:54, 79.9MB/s]\u001b[A\n",
      " 57%|█████▋    | 5.30G/9.34G [01:06<00:55, 78.8MB/s]\u001b[A\n",
      " 57%|█████▋    | 5.31G/9.34G [01:06<00:54, 79.5MB/s]\u001b[A\n",
      " 57%|█████▋    | 5.32G/9.34G [01:06<00:50, 84.9MB/s]\u001b[A\n",
      " 57%|█████▋    | 5.33G/9.34G [01:06<00:48, 89.3MB/s]\u001b[A\n",
      " 57%|█████▋    | 5.34G/9.34G [01:06<00:46, 93.2MB/s]\u001b[A\n",
      " 57%|█████▋    | 5.35G/9.34G [01:06<00:44, 95.8MB/s]\u001b[A\n",
      " 57%|█████▋    | 5.36G/9.34G [01:06<00:42, 99.7MB/s]\u001b[A\n",
      " 57%|█████▋    | 5.37G/9.34G [01:07<01:01, 69.6MB/s]\u001b[A\n",
      " 58%|█████▊    | 5.38G/9.34G [01:07<00:59, 71.0MB/s]\u001b[A\n",
      " 58%|█████▊    | 5.39G/9.34G [01:07<00:53, 79.2MB/s]\u001b[A\n",
      " 58%|█████▊    | 5.40G/9.34G [01:07<00:56, 75.2MB/s]\u001b[A\n",
      " 58%|█████▊    | 5.40G/9.34G [01:07<01:11, 59.4MB/s]\u001b[A\n",
      " 58%|█████▊    | 5.41G/9.34G [01:07<01:01, 68.5MB/s]\u001b[A\n",
      " 58%|█████▊    | 5.42G/9.34G [01:07<01:10, 59.8MB/s]\u001b[A\n",
      " 58%|█████▊    | 5.43G/9.34G [01:08<01:11, 58.5MB/s]\u001b[A\n",
      " 58%|█████▊    | 5.44G/9.34G [01:08<01:05, 63.4MB/s]\u001b[A\n",
      " 58%|█████▊    | 5.45G/9.34G [01:08<01:09, 60.2MB/s]\u001b[A\n",
      " 58%|█████▊    | 5.45G/9.34G [01:08<01:07, 61.6MB/s]\u001b[A\n",
      " 59%|█████▊    | 5.46G/9.34G [01:08<01:01, 68.0MB/s]\u001b[A\n",
      " 59%|█████▊    | 5.47G/9.34G [01:08<01:06, 62.1MB/s]\u001b[A\n",
      " 59%|█████▊    | 5.48G/9.34G [01:08<00:59, 69.7MB/s]\u001b[A\n",
      " 59%|█████▉    | 5.49G/9.34G [01:09<01:07, 61.0MB/s]\u001b[A\n",
      " 59%|█████▉    | 5.49G/9.34G [01:09<01:10, 58.7MB/s]\u001b[A\n",
      " 59%|█████▉    | 5.50G/9.34G [01:09<01:00, 68.2MB/s]\u001b[A\n",
      " 59%|█████▉    | 5.51G/9.34G [01:09<00:55, 74.3MB/s]\u001b[A\n",
      " 59%|█████▉    | 5.52G/9.34G [01:09<01:10, 58.5MB/s]\u001b[A\n",
      " 59%|█████▉    | 5.53G/9.34G [01:09<01:00, 67.3MB/s]\u001b[A\n",
      " 59%|█████▉    | 5.54G/9.34G [01:09<01:21, 50.2MB/s]\u001b[A\n",
      " 59%|█████▉    | 5.55G/9.34G [01:10<01:18, 51.5MB/s]\u001b[A\n",
      " 60%|█████▉    | 5.56G/9.34G [01:10<01:05, 62.0MB/s]\u001b[A\n",
      " 60%|█████▉    | 5.57G/9.34G [01:10<01:06, 61.2MB/s]\u001b[A\n",
      " 60%|█████▉    | 5.57G/9.34G [01:10<01:01, 65.7MB/s]\u001b[A\n",
      " 60%|█████▉    | 5.58G/9.34G [01:10<00:58, 68.6MB/s]\u001b[A\n",
      " 60%|█████▉    | 5.59G/9.34G [01:10<01:05, 61.3MB/s]\u001b[A\n",
      " 60%|█████▉    | 5.60G/9.34G [01:10<01:00, 66.4MB/s]\u001b[A\n",
      " 60%|██████    | 5.61G/9.34G [01:11<01:01, 65.3MB/s]\u001b[A\n",
      " 60%|██████    | 5.61G/9.34G [01:11<00:55, 71.7MB/s]\u001b[A\n",
      " 60%|██████    | 5.62G/9.34G [01:11<01:20, 49.6MB/s]\u001b[A\n",
      " 60%|██████    | 5.63G/9.34G [01:11<01:08, 57.9MB/s]\u001b[A\n",
      " 60%|██████    | 5.64G/9.34G [01:11<01:17, 51.5MB/s]\u001b[A\n",
      " 60%|██████    | 5.65G/9.34G [01:11<01:03, 62.4MB/s]\u001b[A\n",
      " 61%|██████    | 5.66G/9.34G [01:12<01:04, 60.8MB/s]\u001b[A\n",
      " 61%|██████    | 5.66G/9.34G [01:12<01:04, 60.7MB/s]\u001b[A\n",
      " 61%|██████    | 5.67G/9.34G [01:12<01:14, 52.6MB/s]\u001b[A\n",
      " 61%|██████    | 5.68G/9.34G [01:12<01:11, 55.0MB/s]\u001b[A\n",
      " 61%|██████    | 5.68G/9.34G [01:12<01:06, 59.2MB/s]\u001b[A\n",
      " 61%|██████    | 5.69G/9.34G [01:12<00:58, 67.4MB/s]\u001b[A\n",
      " 61%|██████    | 5.70G/9.34G [01:12<00:57, 67.5MB/s]\u001b[A\n",
      " 61%|██████    | 5.71G/9.34G [01:12<00:54, 71.4MB/s]\u001b[A\n",
      " 61%|██████    | 5.71G/9.34G [01:12<00:52, 74.4MB/s]\u001b[A\n",
      " 61%|██████▏   | 5.72G/9.34G [01:13<01:01, 63.4MB/s]\u001b[A\n",
      " 61%|██████▏   | 5.73G/9.34G [01:13<01:00, 63.9MB/s]\u001b[A\n",
      " 61%|██████▏   | 5.74G/9.34G [01:13<00:59, 64.7MB/s]\u001b[A\n",
      " 62%|██████▏   | 5.75G/9.34G [01:13<00:51, 74.7MB/s]\u001b[A\n",
      " 62%|██████▏   | 5.75G/9.34G [01:13<00:52, 73.6MB/s]\u001b[A\n",
      " 62%|██████▏   | 5.76G/9.34G [01:13<00:52, 73.8MB/s]\u001b[A\n",
      " 62%|██████▏   | 5.77G/9.34G [01:13<01:01, 62.5MB/s]\u001b[A\n",
      " 62%|██████▏   | 5.78G/9.34G [01:13<00:51, 74.1MB/s]\u001b[A\n",
      " 62%|██████▏   | 5.79G/9.34G [01:14<00:59, 64.1MB/s]\u001b[A\n",
      " 62%|██████▏   | 5.79G/9.34G [01:14<01:10, 54.1MB/s]\u001b[A\n",
      " 62%|██████▏   | 5.80G/9.34G [01:14<01:01, 62.2MB/s]\u001b[A\n",
      " 62%|██████▏   | 5.81G/9.34G [01:14<01:12, 52.2MB/s]\u001b[A\n",
      " 62%|██████▏   | 5.82G/9.34G [01:14<00:59, 63.0MB/s]\u001b[A\n",
      " 62%|██████▏   | 5.83G/9.34G [01:14<01:00, 61.8MB/s]\u001b[A\n",
      " 62%|██████▏   | 5.83G/9.34G [01:15<01:08, 54.9MB/s]\u001b[A\n",
      " 63%|██████▎   | 5.84G/9.34G [01:15<00:58, 64.1MB/s]\u001b[A\n",
      " 63%|██████▎   | 5.85G/9.34G [01:15<01:04, 57.7MB/s]\u001b[A\n",
      " 63%|██████▎   | 5.86G/9.34G [01:15<00:58, 63.9MB/s]\u001b[A\n",
      " 63%|██████▎   | 5.87G/9.34G [01:15<00:58, 63.9MB/s]\u001b[A\n",
      " 63%|██████▎   | 5.88G/9.34G [01:15<01:06, 56.2MB/s]\u001b[A\n",
      " 63%|██████▎   | 5.88G/9.34G [01:15<00:57, 64.2MB/s]\u001b[A\n",
      " 63%|██████▎   | 5.89G/9.34G [01:16<00:57, 63.9MB/s]\u001b[A\n",
      " 63%|██████▎   | 5.90G/9.34G [01:16<01:01, 59.6MB/s]\u001b[A\n",
      " 63%|██████▎   | 5.91G/9.34G [01:16<01:18, 46.7MB/s]\u001b[A\n",
      " 63%|██████▎   | 5.92G/9.34G [01:16<01:03, 57.5MB/s]\u001b[A\n",
      " 63%|██████▎   | 5.92G/9.34G [01:16<01:04, 56.7MB/s]\u001b[A\n",
      " 64%|██████▎   | 5.93G/9.34G [01:16<00:56, 64.4MB/s]\u001b[A\n",
      " 64%|██████▎   | 5.94G/9.34G [01:16<00:59, 61.1MB/s]\u001b[A\n",
      " 64%|██████▎   | 5.95G/9.34G [01:17<00:55, 65.9MB/s]\u001b[A\n",
      " 64%|██████▍   | 5.96G/9.34G [01:17<00:50, 71.8MB/s]\u001b[A\n",
      " 64%|██████▍   | 5.96G/9.34G [01:17<01:06, 54.5MB/s]\u001b[A\n",
      " 64%|██████▍   | 5.97G/9.34G [01:17<00:56, 64.2MB/s]\u001b[A\n",
      " 64%|██████▍   | 5.98G/9.34G [01:17<00:55, 65.2MB/s]\u001b[A\n",
      " 64%|██████▍   | 5.99G/9.34G [01:17<01:09, 51.9MB/s]\u001b[A\n",
      " 64%|██████▍   | 6.00G/9.34G [01:17<00:57, 62.7MB/s]\u001b[A\n",
      " 64%|██████▍   | 6.01G/9.34G [01:18<00:53, 67.3MB/s]\u001b[A\n",
      " 64%|██████▍   | 6.02G/9.34G [01:18<00:54, 65.4MB/s]\u001b[A\n",
      " 65%|██████▍   | 6.02G/9.34G [01:18<00:49, 72.0MB/s]\u001b[A\n",
      " 65%|██████▍   | 6.03G/9.34G [01:18<00:47, 74.2MB/s]\u001b[A\n",
      " 65%|██████▍   | 6.04G/9.34G [01:18<00:47, 74.6MB/s]\u001b[A\n",
      " 65%|██████▍   | 6.05G/9.34G [01:18<01:08, 51.6MB/s]\u001b[A\n",
      " 65%|██████▍   | 6.06G/9.34G [01:18<00:56, 61.9MB/s]\u001b[A\n",
      " 65%|██████▍   | 6.07G/9.34G [01:19<01:04, 54.1MB/s]\u001b[A\n",
      " 65%|██████▌   | 6.08G/9.34G [01:19<00:53, 65.9MB/s]\u001b[A\n",
      " 65%|██████▌   | 6.08G/9.34G [01:19<01:15, 46.0MB/s]\u001b[A\n",
      " 65%|██████▌   | 6.09G/9.34G [01:19<01:07, 51.9MB/s]\u001b[A\n",
      " 65%|██████▌   | 6.10G/9.34G [01:19<01:10, 49.3MB/s]\u001b[A\n",
      " 65%|██████▌   | 6.11G/9.34G [01:19<00:58, 59.7MB/s]\u001b[A\n",
      " 66%|██████▌   | 6.12G/9.34G [01:20<00:54, 63.2MB/s]\u001b[A\n",
      " 66%|██████▌   | 6.13G/9.34G [01:20<00:49, 69.9MB/s]\u001b[A\n",
      " 66%|██████▌   | 6.13G/9.34G [01:20<00:45, 75.0MB/s]\u001b[A\n",
      " 66%|██████▌   | 6.15G/9.34G [01:20<00:41, 83.1MB/s]\u001b[A\n",
      " 66%|██████▌   | 6.15G/9.34G [01:20<00:44, 77.4MB/s]\u001b[A\n",
      " 66%|██████▌   | 6.16G/9.34G [01:20<00:45, 75.0MB/s]\u001b[A\n",
      " 66%|██████▌   | 6.17G/9.34G [01:20<00:44, 76.1MB/s]\u001b[A\n",
      " 66%|██████▌   | 6.18G/9.34G [01:20<00:44, 76.9MB/s]\u001b[A\n",
      " 66%|██████▋   | 6.19G/9.34G [01:21<00:41, 80.6MB/s]\u001b[A\n",
      " 66%|██████▋   | 6.20G/9.34G [01:21<00:38, 87.0MB/s]\u001b[A\n",
      " 67%|██████▋   | 6.21G/9.34G [01:21<00:35, 93.4MB/s]\u001b[A\n",
      " 67%|██████▋   | 6.22G/9.34G [01:21<00:34, 95.9MB/s]\u001b[A\n",
      " 67%|██████▋   | 6.23G/9.34G [01:21<00:35, 94.8MB/s]\u001b[A\n",
      " 67%|██████▋   | 6.24G/9.34G [01:21<00:35, 94.5MB/s]\u001b[A\n",
      " 67%|██████▋   | 6.25G/9.34G [01:21<00:34, 96.1MB/s]\u001b[A\n",
      " 67%|██████▋   | 6.26G/9.34G [01:21<00:34, 96.0MB/s]\u001b[A\n",
      " 67%|██████▋   | 6.27G/9.34G [01:21<00:34, 94.7MB/s]\u001b[A\n",
      " 67%|██████▋   | 6.28G/9.34G [01:22<00:34, 93.9MB/s]\u001b[A\n",
      " 67%|██████▋   | 6.29G/9.34G [01:22<00:34, 94.0MB/s]\u001b[A\n",
      " 67%|██████▋   | 6.30G/9.34G [01:22<00:34, 95.7MB/s]\u001b[A\n",
      " 68%|██████▊   | 6.31G/9.34G [01:22<00:36, 89.3MB/s]\u001b[A\n",
      " 68%|██████▊   | 6.32G/9.34G [01:22<00:36, 88.0MB/s]\u001b[A\n",
      " 68%|██████▊   | 6.33G/9.34G [01:22<00:35, 92.1MB/s]\u001b[A\n",
      " 68%|██████▊   | 6.34G/9.34G [01:22<00:34, 92.9MB/s]\u001b[A\n",
      " 68%|██████▊   | 6.35G/9.34G [01:22<00:50, 63.3MB/s]\u001b[A\n",
      " 68%|██████▊   | 6.35G/9.34G [01:23<00:45, 69.8MB/s]\u001b[A\n",
      " 68%|██████▊   | 6.36G/9.34G [01:23<00:41, 76.3MB/s]\u001b[A\n",
      " 68%|██████▊   | 6.37G/9.34G [01:23<00:38, 82.8MB/s]\u001b[A\n",
      " 68%|██████▊   | 6.38G/9.34G [01:23<00:36, 86.5MB/s]\u001b[A\n",
      " 68%|██████▊   | 6.39G/9.34G [01:23<00:34, 91.2MB/s]\u001b[A\n",
      " 69%|██████▊   | 6.40G/9.34G [01:23<00:34, 92.6MB/s]\u001b[A\n",
      " 69%|██████▊   | 6.41G/9.34G [01:23<00:32, 95.8MB/s]\u001b[A\n",
      " 69%|██████▉   | 6.42G/9.34G [01:23<00:33, 93.6MB/s]\u001b[A\n",
      " 69%|██████▉   | 6.43G/9.34G [01:23<00:32, 95.0MB/s]\u001b[A\n",
      " 69%|██████▉   | 6.44G/9.34G [01:24<00:31, 99.4MB/s]\u001b[A\n",
      " 69%|██████▉   | 6.45G/9.34G [01:24<00:31, 97.0MB/s]\u001b[A\n",
      " 69%|██████▉   | 6.46G/9.34G [01:24<00:31, 98.4MB/s]\u001b[A\n",
      " 69%|██████▉   | 6.48G/9.34G [01:24<00:30, 102MB/s] \u001b[A\n",
      " 69%|██████▉   | 6.49G/9.34G [01:24<00:30, 101MB/s]\u001b[A\n",
      " 70%|██████▉   | 6.50G/9.34G [01:24<00:30, 100MB/s]\u001b[A\n",
      " 70%|██████▉   | 6.50G/9.34G [01:24<00:30, 100MB/s]\u001b[A\n",
      " 70%|██████▉   | 6.52G/9.34G [01:24<00:30, 100MB/s]\u001b[A\n",
      " 70%|██████▉   | 6.53G/9.34G [01:24<00:29, 103MB/s]\u001b[A\n",
      " 70%|███████   | 6.54G/9.34G [01:25<00:29, 103MB/s]\u001b[A\n",
      " 70%|███████   | 6.55G/9.34G [01:25<00:29, 101MB/s]\u001b[A\n",
      " 70%|███████   | 6.56G/9.34G [01:25<00:28, 104MB/s]\u001b[A\n",
      " 70%|███████   | 6.57G/9.34G [01:25<00:28, 104MB/s]\u001b[A\n",
      " 70%|███████   | 6.58G/9.34G [01:25<00:31, 95.5MB/s]\u001b[A\n",
      " 71%|███████   | 6.59G/9.34G [01:25<00:31, 94.0MB/s]\u001b[A\n",
      " 71%|███████   | 6.60G/9.34G [01:25<00:31, 94.4MB/s]\u001b[A\n",
      " 71%|███████   | 6.61G/9.34G [01:25<00:30, 97.4MB/s]\u001b[A\n",
      " 71%|███████   | 6.62G/9.34G [01:25<00:28, 101MB/s] \u001b[A\n",
      " 71%|███████   | 6.63G/9.34G [01:25<00:28, 101MB/s]\u001b[A\n",
      " 71%|███████   | 6.64G/9.34G [01:26<00:30, 93.7MB/s]\u001b[A\n",
      " 71%|███████   | 6.65G/9.34G [01:26<00:29, 98.1MB/s]\u001b[A\n",
      " 71%|███████▏  | 6.66G/9.34G [01:26<00:29, 97.2MB/s]\u001b[A\n",
      " 71%|███████▏  | 6.67G/9.34G [01:26<00:29, 97.5MB/s]\u001b[A\n",
      " 72%|███████▏  | 6.68G/9.34G [01:26<00:29, 95.7MB/s]\u001b[A\n",
      " 72%|███████▏  | 6.69G/9.34G [01:26<00:29, 97.6MB/s]\u001b[A\n",
      " 72%|███████▏  | 6.70G/9.34G [01:26<00:28, 98.3MB/s]\u001b[A\n",
      " 72%|███████▏  | 6.71G/9.34G [01:26<00:27, 102MB/s] \u001b[A\n",
      " 72%|███████▏  | 6.72G/9.34G [01:26<00:28, 100MB/s]\u001b[A\n",
      " 72%|███████▏  | 6.73G/9.34G [01:27<00:27, 102MB/s]\u001b[A\n",
      " 72%|███████▏  | 6.74G/9.34G [01:27<00:29, 94.3MB/s]\u001b[A\n",
      " 72%|███████▏  | 6.75G/9.34G [01:27<00:29, 95.6MB/s]\u001b[A\n",
      " 72%|███████▏  | 6.76G/9.34G [01:27<00:29, 95.5MB/s]\u001b[A\n",
      " 72%|███████▏  | 6.77G/9.34G [01:27<00:27, 101MB/s] \u001b[A\n",
      " 73%|███████▎  | 6.78G/9.34G [01:27<00:27, 101MB/s]\u001b[A\n",
      " 73%|███████▎  | 6.79G/9.34G [01:27<00:29, 93.6MB/s]\u001b[A\n",
      " 73%|███████▎  | 6.80G/9.34G [01:27<00:29, 94.0MB/s]\u001b[A\n",
      " 73%|███████▎  | 6.81G/9.34G [01:27<00:27, 98.4MB/s]\u001b[A\n",
      " 73%|███████▎  | 6.82G/9.34G [01:28<00:26, 101MB/s] \u001b[A\n",
      " 73%|███████▎  | 6.83G/9.34G [01:28<00:26, 99.9MB/s]\u001b[A\n",
      " 73%|███████▎  | 6.84G/9.34G [01:28<00:27, 98.5MB/s]\u001b[A\n",
      " 73%|███████▎  | 6.85G/9.34G [01:28<00:26, 102MB/s] \u001b[A\n",
      " 73%|███████▎  | 6.86G/9.34G [01:28<00:26, 102MB/s]\u001b[A\n",
      " 74%|███████▎  | 6.87G/9.34G [01:28<00:26, 99.1MB/s]\u001b[A\n",
      " 74%|███████▎  | 6.88G/9.34G [01:28<00:31, 84.9MB/s]\u001b[A\n",
      " 74%|███████▍  | 6.89G/9.34G [01:28<00:29, 90.6MB/s]\u001b[A\n",
      " 74%|███████▍  | 6.90G/9.34G [01:29<00:27, 93.6MB/s]\u001b[A\n",
      " 74%|███████▍  | 6.91G/9.34G [01:29<00:27, 94.5MB/s]\u001b[A\n",
      " 74%|███████▍  | 6.92G/9.34G [01:29<00:26, 99.0MB/s]\u001b[A\n",
      " 74%|███████▍  | 6.93G/9.34G [01:29<00:26, 97.3MB/s]\u001b[A\n",
      " 74%|███████▍  | 6.94G/9.34G [01:29<00:26, 95.7MB/s]\u001b[A\n",
      " 74%|███████▍  | 6.95G/9.34G [01:29<00:25, 99.2MB/s]\u001b[A\n",
      " 75%|███████▍  | 6.96G/9.34G [01:29<00:25, 100MB/s] \u001b[A\n",
      " 75%|███████▍  | 6.97G/9.34G [01:29<00:25, 98.8MB/s]\u001b[A\n",
      " 75%|███████▍  | 6.98G/9.34G [01:29<00:25, 99.7MB/s]\u001b[A\n",
      " 75%|███████▍  | 6.99G/9.34G [01:29<00:25, 98.7MB/s]\u001b[A\n",
      " 75%|███████▍  | 7.00G/9.34G [01:30<00:25, 98.8MB/s]\u001b[A\n",
      " 75%|███████▌  | 7.01G/9.34G [01:30<00:30, 81.1MB/s]\u001b[A\n",
      " 75%|███████▌  | 7.02G/9.34G [01:30<00:29, 83.3MB/s]\u001b[A\n",
      " 75%|███████▌  | 7.03G/9.34G [01:30<00:29, 85.5MB/s]\u001b[A\n",
      " 75%|███████▌  | 7.04G/9.34G [01:30<00:26, 92.2MB/s]\u001b[A\n",
      " 75%|███████▌  | 7.05G/9.34G [01:30<00:26, 93.1MB/s]\u001b[A\n",
      " 76%|███████▌  | 7.06G/9.34G [01:30<00:25, 95.1MB/s]\u001b[A\n",
      " 76%|███████▌  | 7.07G/9.34G [01:30<00:24, 98.1MB/s]\u001b[A\n",
      " 76%|███████▌  | 7.08G/9.34G [01:31<00:23, 101MB/s] \u001b[A\n",
      " 76%|███████▌  | 7.09G/9.34G [01:31<00:24, 100MB/s]\u001b[A\n",
      " 76%|███████▌  | 7.10G/9.34G [01:31<00:24, 100MB/s]\u001b[A\n",
      " 76%|███████▌  | 7.11G/9.34G [01:31<00:23, 101MB/s]\u001b[A\n",
      " 76%|███████▌  | 7.12G/9.34G [01:31<00:23, 101MB/s]\u001b[A\n",
      " 76%|███████▋  | 7.13G/9.34G [01:31<00:29, 81.4MB/s]\u001b[A\n",
      " 76%|███████▋  | 7.14G/9.34G [01:31<00:27, 86.1MB/s]\u001b[A\n",
      " 77%|███████▋  | 7.15G/9.34G [01:31<00:26, 87.7MB/s]\u001b[A\n",
      " 77%|███████▋  | 7.16G/9.34G [01:31<00:26, 88.6MB/s]\u001b[A\n",
      " 77%|███████▋  | 7.17G/9.34G [01:32<00:25, 92.6MB/s]\u001b[A\n",
      " 77%|███████▋  | 7.18G/9.34G [01:32<00:24, 94.5MB/s]\u001b[A\n",
      " 77%|███████▋  | 7.19G/9.34G [01:32<00:24, 95.6MB/s]\u001b[A\n",
      " 77%|███████▋  | 7.20G/9.34G [01:32<00:24, 95.7MB/s]\u001b[A\n",
      " 77%|███████▋  | 7.21G/9.34G [01:32<00:24, 94.8MB/s]\u001b[A\n",
      " 77%|███████▋  | 7.22G/9.34G [01:32<00:23, 96.0MB/s]\u001b[A\n",
      " 77%|███████▋  | 7.23G/9.34G [01:32<00:23, 97.9MB/s]\u001b[A\n",
      " 78%|███████▊  | 7.24G/9.34G [01:32<00:22, 101MB/s] \u001b[A\n",
      " 78%|███████▊  | 7.25G/9.34G [01:32<00:22, 101MB/s]\u001b[A\n",
      " 78%|███████▊  | 7.26G/9.34G [01:33<00:22, 98.7MB/s]\u001b[A\n",
      " 78%|███████▊  | 7.27G/9.34G [01:33<00:21, 102MB/s] \u001b[A\n",
      " 78%|███████▊  | 7.28G/9.34G [01:33<00:21, 104MB/s]\u001b[A\n",
      " 78%|███████▊  | 7.29G/9.34G [01:33<00:21, 102MB/s]\u001b[A\n",
      " 78%|███████▊  | 7.30G/9.34G [01:33<00:21, 103MB/s]\u001b[A\n",
      " 78%|███████▊  | 7.31G/9.34G [01:33<00:20, 105MB/s]\u001b[A\n",
      " 78%|███████▊  | 7.32G/9.34G [01:33<00:20, 104MB/s]\u001b[A\n",
      " 79%|███████▊  | 7.33G/9.34G [01:33<00:21, 101MB/s]\u001b[A\n",
      " 79%|███████▊  | 7.34G/9.34G [01:33<00:20, 102MB/s]\u001b[A\n",
      " 79%|███████▊  | 7.35G/9.34G [01:34<00:20, 104MB/s]\u001b[A\n",
      " 79%|███████▉  | 7.36G/9.34G [01:34<00:20, 104MB/s]\u001b[A\n",
      " 79%|███████▉  | 7.37G/9.34G [01:34<00:20, 103MB/s]\u001b[A\n",
      " 79%|███████▉  | 7.38G/9.34G [01:34<00:20, 104MB/s]\u001b[A\n",
      " 79%|███████▉  | 7.39G/9.34G [01:34<00:20, 102MB/s]\u001b[A\n",
      " 79%|███████▉  | 7.40G/9.34G [01:34<00:20, 103MB/s]\u001b[A\n",
      " 79%|███████▉  | 7.41G/9.34G [01:34<00:20, 102MB/s]\u001b[A\n",
      " 79%|███████▉  | 7.42G/9.34G [01:34<00:20, 98.8MB/s]\u001b[A\n",
      " 80%|███████▉  | 7.43G/9.34G [01:34<00:23, 88.8MB/s]\u001b[A\n",
      " 80%|███████▉  | 7.44G/9.34G [01:35<00:23, 87.0MB/s]\u001b[A\n",
      " 80%|███████▉  | 7.45G/9.34G [01:35<00:21, 93.1MB/s]\u001b[A\n",
      " 80%|███████▉  | 7.46G/9.34G [01:35<00:20, 97.9MB/s]\u001b[A\n",
      " 80%|████████  | 7.47G/9.34G [01:35<00:20, 97.7MB/s]\u001b[A\n",
      " 80%|████████  | 7.48G/9.34G [01:35<00:19, 99.7MB/s]\u001b[A\n",
      " 80%|████████  | 7.49G/9.34G [01:35<00:19, 101MB/s] \u001b[A\n",
      " 80%|████████  | 7.50G/9.34G [01:35<00:19, 99.0MB/s]\u001b[A\n",
      " 80%|████████  | 7.51G/9.34G [01:35<00:19, 103MB/s] \u001b[A\n",
      " 81%|████████  | 7.52G/9.34G [01:35<00:18, 103MB/s]\u001b[A\n",
      " 81%|████████  | 7.53G/9.34G [01:35<00:19, 100MB/s]\u001b[A\n",
      " 81%|████████  | 7.54G/9.34G [01:36<00:18, 103MB/s]\u001b[A\n",
      " 81%|████████  | 7.55G/9.34G [01:36<00:18, 103MB/s]\u001b[A\n",
      " 81%|████████  | 7.56G/9.34G [01:36<00:18, 102MB/s]\u001b[A\n",
      " 81%|████████  | 7.57G/9.34G [01:36<00:18, 104MB/s]\u001b[A\n",
      " 81%|████████  | 7.58G/9.34G [01:36<00:18, 103MB/s]\u001b[A\n",
      " 81%|████████▏ | 7.59G/9.34G [01:36<00:18, 102MB/s]\u001b[A\n",
      " 81%|████████▏ | 7.60G/9.34G [01:36<00:21, 85.9MB/s]\u001b[A\n",
      " 82%|████████▏ | 7.61G/9.34G [01:36<00:20, 90.7MB/s]\u001b[A\n",
      " 82%|████████▏ | 7.62G/9.34G [01:37<00:20, 92.1MB/s]\u001b[A\n",
      " 82%|████████▏ | 7.63G/9.34G [01:37<00:19, 96.0MB/s]\u001b[A\n",
      " 82%|████████▏ | 7.64G/9.34G [01:37<00:18, 99.4MB/s]\u001b[A\n",
      " 82%|████████▏ | 7.65G/9.34G [01:37<00:18, 95.4MB/s]\u001b[A\n",
      " 82%|████████▏ | 7.66G/9.34G [01:37<00:18, 97.9MB/s]\u001b[A\n",
      " 82%|████████▏ | 7.67G/9.34G [01:37<00:18, 99.3MB/s]\u001b[A\n",
      " 82%|████████▏ | 7.68G/9.34G [01:37<00:17, 99.1MB/s]\u001b[A\n",
      " 82%|████████▏ | 7.69G/9.34G [01:37<00:19, 92.2MB/s]\u001b[A\n",
      " 82%|████████▏ | 7.70G/9.34G [01:37<00:18, 94.9MB/s]\u001b[A\n",
      " 83%|████████▎ | 7.71G/9.34G [01:37<00:17, 98.9MB/s]\u001b[A\n",
      " 83%|████████▎ | 7.72G/9.34G [01:38<00:17, 100MB/s] \u001b[A\n",
      " 83%|████████▎ | 7.73G/9.34G [01:38<00:17, 100MB/s]\u001b[A\n",
      " 83%|████████▎ | 7.74G/9.34G [01:38<00:16, 103MB/s]\u001b[A\n",
      " 83%|████████▎ | 7.75G/9.34G [01:38<00:16, 105MB/s]\u001b[A\n",
      " 83%|████████▎ | 7.76G/9.34G [01:38<00:17, 98.8MB/s]\u001b[A\n",
      " 83%|████████▎ | 7.77G/9.34G [01:38<00:17, 96.4MB/s]\u001b[A\n",
      " 83%|████████▎ | 7.79G/9.34G [01:38<00:16, 98.5MB/s]\u001b[A\n",
      " 83%|████████▎ | 7.80G/9.34G [01:38<00:16, 100MB/s] \u001b[A\n",
      " 84%|████████▎ | 7.81G/9.34G [01:38<00:16, 102MB/s]\u001b[A\n",
      " 84%|████████▎ | 7.82G/9.34G [01:39<00:16, 101MB/s]\u001b[A\n",
      " 84%|████████▍ | 7.83G/9.34G [01:39<00:16, 101MB/s]\u001b[A\n",
      " 84%|████████▍ | 7.84G/9.34G [01:39<00:15, 101MB/s]\u001b[A\n",
      " 84%|████████▍ | 7.85G/9.34G [01:39<00:15, 102MB/s]\u001b[A\n",
      " 84%|████████▍ | 7.86G/9.34G [01:39<00:15, 104MB/s]\u001b[A\n",
      " 84%|████████▍ | 7.87G/9.34G [01:39<00:16, 96.6MB/s]\u001b[A\n",
      " 84%|████████▍ | 7.88G/9.34G [01:39<00:15, 100MB/s] \u001b[A\n",
      " 84%|████████▍ | 7.89G/9.34G [01:39<00:15, 101MB/s]\u001b[A\n",
      " 85%|████████▍ | 7.90G/9.34G [01:39<00:15, 100MB/s]\u001b[A\n",
      " 85%|████████▍ | 7.91G/9.34G [01:40<00:15, 101MB/s]\u001b[A\n",
      " 85%|████████▍ | 7.92G/9.34G [01:40<00:14, 102MB/s]\u001b[A\n",
      " 85%|████████▍ | 7.93G/9.34G [01:40<00:15, 95.9MB/s]\u001b[A\n",
      " 85%|████████▌ | 7.94G/9.34G [01:40<00:16, 88.7MB/s]\u001b[A\n",
      " 85%|████████▌ | 7.95G/9.34G [01:40<00:16, 92.8MB/s]\u001b[A\n",
      " 85%|████████▌ | 7.96G/9.34G [01:40<00:15, 97.6MB/s]\u001b[A\n",
      " 85%|████████▌ | 7.97G/9.34G [01:40<00:14, 98.4MB/s]\u001b[A\n",
      " 85%|████████▌ | 7.98G/9.34G [01:40<00:14, 98.6MB/s]\u001b[A\n",
      " 86%|████████▌ | 7.99G/9.34G [01:40<00:14, 98.0MB/s]\u001b[A\n",
      " 86%|████████▌ | 8.00G/9.34G [01:41<00:14, 101MB/s] \u001b[A\n",
      " 86%|████████▌ | 8.01G/9.34G [01:41<00:14, 102MB/s]\u001b[A\n",
      " 86%|████████▌ | 8.02G/9.34G [01:41<00:13, 101MB/s]\u001b[A\n",
      " 86%|████████▌ | 8.03G/9.34G [01:41<00:13, 101MB/s]\u001b[A\n",
      " 86%|████████▌ | 8.04G/9.34G [01:41<00:13, 104MB/s]\u001b[A\n",
      " 86%|████████▌ | 8.05G/9.34G [01:41<00:13, 103MB/s]\u001b[A\n",
      " 86%|████████▋ | 8.06G/9.34G [01:41<00:14, 96.3MB/s]\u001b[A\n",
      " 86%|████████▋ | 8.07G/9.34G [01:41<00:13, 97.9MB/s]\u001b[A\n",
      " 87%|████████▋ | 8.08G/9.34G [01:41<00:13, 99.2MB/s]\u001b[A\n",
      " 87%|████████▋ | 8.09G/9.34G [01:42<00:13, 99.0MB/s]\u001b[A\n",
      " 87%|████████▋ | 8.10G/9.34G [01:42<00:12, 102MB/s] \u001b[A\n",
      " 87%|████████▋ | 8.11G/9.34G [01:42<00:12, 102MB/s]\u001b[A\n",
      " 87%|████████▋ | 8.12G/9.34G [01:42<00:12, 103MB/s]\u001b[A\n",
      " 87%|████████▋ | 8.13G/9.34G [01:42<00:12, 104MB/s]\u001b[A\n",
      " 87%|████████▋ | 8.14G/9.34G [01:42<00:12, 101MB/s]\u001b[A\n",
      " 87%|████████▋ | 8.15G/9.34G [01:42<00:12, 102MB/s]\u001b[A\n",
      " 87%|████████▋ | 8.16G/9.34G [01:42<00:12, 105MB/s]\u001b[A\n",
      " 88%|████████▊ | 8.17G/9.34G [01:42<00:11, 106MB/s]\u001b[A\n",
      " 88%|████████▊ | 8.18G/9.34G [01:43<00:12, 102MB/s]\u001b[A\n",
      " 88%|████████▊ | 8.20G/9.34G [01:43<00:12, 101MB/s]\u001b[A\n",
      " 88%|████████▊ | 8.21G/9.34G [01:43<00:11, 102MB/s]\u001b[A\n",
      " 88%|████████▊ | 8.22G/9.34G [01:43<00:11, 105MB/s]\u001b[A\n",
      " 88%|████████▊ | 8.23G/9.34G [01:43<00:11, 105MB/s]\u001b[A\n",
      " 88%|████████▊ | 8.24G/9.34G [01:43<00:11, 102MB/s]\u001b[A\n",
      " 88%|████████▊ | 8.25G/9.34G [01:43<00:11, 101MB/s]\u001b[A\n",
      " 88%|████████▊ | 8.26G/9.34G [01:43<00:11, 101MB/s]\u001b[A\n",
      " 89%|████████▊ | 8.27G/9.34G [01:43<00:11, 104MB/s]\u001b[A\n",
      " 89%|████████▊ | 8.28G/9.34G [01:44<00:12, 90.2MB/s]\u001b[A\n",
      " 89%|████████▉ | 8.29G/9.34G [01:44<00:11, 93.8MB/s]\u001b[A\n",
      " 89%|████████▉ | 8.30G/9.34G [01:44<00:12, 88.0MB/s]\u001b[A\n",
      " 89%|████████▉ | 8.31G/9.34G [01:44<00:12, 87.5MB/s]\u001b[A\n",
      " 89%|████████▉ | 8.32G/9.34G [01:44<00:11, 92.3MB/s]\u001b[A\n",
      " 89%|████████▉ | 8.33G/9.34G [01:44<00:11, 92.8MB/s]\u001b[A\n",
      " 89%|████████▉ | 8.34G/9.34G [01:44<00:11, 97.2MB/s]\u001b[A\n",
      " 89%|████████▉ | 8.35G/9.34G [01:44<00:10, 98.9MB/s]\u001b[A\n",
      " 90%|████████▉ | 8.36G/9.34G [01:44<00:10, 97.1MB/s]\u001b[A\n",
      " 90%|████████▉ | 8.37G/9.34G [01:45<00:10, 98.3MB/s]\u001b[A\n",
      " 90%|████████▉ | 8.38G/9.34G [01:45<00:10, 98.6MB/s]\u001b[A\n",
      " 90%|████████▉ | 8.39G/9.34G [01:45<00:09, 102MB/s] \u001b[A\n",
      " 90%|████████▉ | 8.40G/9.34G [01:45<00:10, 101MB/s]\u001b[A\n",
      " 90%|█████████ | 8.41G/9.34G [01:45<00:09, 102MB/s]\u001b[A\n",
      " 90%|█████████ | 8.42G/9.34G [01:45<00:09, 104MB/s]\u001b[A\n",
      " 90%|█████████ | 8.43G/9.34G [01:45<00:09, 102MB/s]\u001b[A\n",
      " 90%|█████████ | 8.44G/9.34G [01:45<00:10, 93.8MB/s]\u001b[A\n",
      " 90%|█████████ | 8.45G/9.34G [01:45<00:09, 96.6MB/s]\u001b[A\n",
      " 91%|█████████ | 8.46G/9.34G [01:46<00:09, 98.0MB/s]\u001b[A\n",
      " 91%|█████████ | 8.47G/9.34G [01:46<00:09, 98.4MB/s]\u001b[A\n",
      " 91%|█████████ | 8.48G/9.34G [01:46<00:09, 101MB/s] \u001b[A\n",
      " 91%|█████████ | 8.49G/9.34G [01:46<00:09, 97.9MB/s]\u001b[A\n",
      " 91%|█████████ | 8.50G/9.34G [01:46<00:08, 101MB/s] \u001b[A\n",
      " 91%|█████████ | 8.51G/9.34G [01:46<00:08, 101MB/s]\u001b[A\n",
      " 91%|█████████ | 8.52G/9.34G [01:46<00:08, 100MB/s]\u001b[A\n",
      " 91%|█████████▏| 8.53G/9.34G [01:46<00:08, 97.8MB/s]\u001b[A\n",
      " 91%|█████████▏| 8.54G/9.34G [01:46<00:08, 101MB/s] \u001b[A\n",
      " 92%|█████████▏| 8.55G/9.34G [01:47<00:08, 95.9MB/s]\u001b[A\n",
      " 92%|█████████▏| 8.56G/9.34G [01:47<00:08, 96.4MB/s]\u001b[A\n",
      " 92%|█████████▏| 8.57G/9.34G [01:47<00:08, 97.7MB/s]\u001b[A\n",
      " 92%|█████████▏| 8.58G/9.34G [01:47<00:10, 74.5MB/s]\u001b[A\n",
      " 92%|█████████▏| 8.59G/9.34G [01:47<00:11, 72.3MB/s]\u001b[A\n",
      " 92%|█████████▏| 8.60G/9.34G [01:47<00:10, 77.1MB/s]\u001b[A\n",
      " 92%|█████████▏| 8.61G/9.34G [01:47<00:09, 81.3MB/s]\u001b[A\n",
      " 92%|█████████▏| 8.62G/9.34G [01:47<00:08, 89.0MB/s]\u001b[A\n",
      " 92%|█████████▏| 8.63G/9.34G [01:48<00:08, 93.1MB/s]\u001b[A\n",
      " 92%|█████████▏| 8.64G/9.34G [01:48<00:07, 96.2MB/s]\u001b[A\n",
      " 93%|█████████▎| 8.65G/9.34G [01:48<00:07, 98.4MB/s]\u001b[A\n",
      " 93%|█████████▎| 8.66G/9.34G [01:48<00:07, 100MB/s] \u001b[A\n",
      " 93%|█████████▎| 8.67G/9.34G [01:48<00:06, 103MB/s]\u001b[A\n",
      " 93%|█████████▎| 8.68G/9.34G [01:48<00:06, 102MB/s]\u001b[A\n",
      " 93%|█████████▎| 8.69G/9.34G [01:48<00:06, 100MB/s]\u001b[A\n",
      " 93%|█████████▎| 8.70G/9.34G [01:48<00:06, 99.7MB/s]\u001b[A\n",
      " 93%|█████████▎| 8.71G/9.34G [01:48<00:06, 101MB/s] \u001b[A\n",
      " 93%|█████████▎| 8.72G/9.34G [01:49<00:06, 97.9MB/s]\u001b[A\n",
      " 93%|█████████▎| 8.73G/9.34G [01:49<00:07, 89.6MB/s]\u001b[A\n",
      " 94%|█████████▎| 8.74G/9.34G [01:49<00:07, 90.1MB/s]\u001b[A\n",
      " 94%|█████████▎| 8.75G/9.34G [01:49<00:06, 91.0MB/s]\u001b[A\n",
      " 94%|█████████▍| 8.76G/9.34G [01:49<00:06, 95.2MB/s]\u001b[A\n",
      " 94%|█████████▍| 8.77G/9.34G [01:49<00:06, 93.9MB/s]\u001b[A\n",
      " 94%|█████████▍| 8.78G/9.34G [01:49<00:06, 93.4MB/s]\u001b[A\n",
      " 94%|█████████▍| 8.79G/9.34G [01:49<00:06, 95.5MB/s]\u001b[A\n",
      " 94%|█████████▍| 8.80G/9.34G [01:49<00:05, 97.1MB/s]\u001b[A\n",
      " 94%|█████████▍| 8.81G/9.34G [01:50<00:05, 100MB/s] \u001b[A\n",
      " 94%|█████████▍| 8.82G/9.34G [01:50<00:07, 78.2MB/s]\u001b[A\n",
      " 95%|█████████▍| 8.83G/9.34G [01:50<00:06, 89.3MB/s]\u001b[A\n",
      " 95%|█████████▍| 8.84G/9.34G [01:50<00:07, 72.0MB/s]\u001b[A\n",
      " 95%|█████████▍| 8.85G/9.34G [01:50<00:07, 72.7MB/s]\u001b[A\n",
      " 95%|█████████▍| 8.86G/9.34G [01:50<00:07, 68.2MB/s]\u001b[A\n",
      " 95%|█████████▍| 8.87G/9.34G [01:50<00:06, 76.1MB/s]\u001b[A\n",
      " 95%|█████████▌| 8.88G/9.34G [01:51<00:07, 66.2MB/s]\u001b[A\n",
      " 95%|█████████▌| 8.89G/9.34G [01:51<00:06, 73.9MB/s]\u001b[A\n",
      " 95%|█████████▌| 8.90G/9.34G [01:51<00:05, 79.2MB/s]\u001b[A\n",
      " 95%|█████████▌| 8.91G/9.34G [01:51<00:05, 87.0MB/s]\u001b[A\n",
      " 96%|█████████▌| 8.92G/9.34G [01:51<00:04, 93.2MB/s]\u001b[A\n",
      " 96%|█████████▌| 8.93G/9.34G [01:51<00:04, 94.6MB/s]\u001b[A\n",
      " 96%|█████████▌| 8.94G/9.34G [01:51<00:04, 95.8MB/s]\u001b[A\n",
      " 96%|█████████▌| 8.95G/9.34G [01:51<00:04, 98.2MB/s]\u001b[A\n",
      " 96%|█████████▌| 8.96G/9.34G [01:51<00:04, 96.8MB/s]\u001b[A\n",
      " 96%|█████████▌| 8.97G/9.34G [01:52<00:04, 98.1MB/s]\u001b[A\n",
      " 96%|█████████▌| 8.98G/9.34G [01:52<00:03, 102MB/s] \u001b[A\n",
      " 96%|█████████▋| 8.99G/9.34G [01:52<00:03, 102MB/s]\u001b[A\n",
      " 96%|█████████▋| 9.00G/9.34G [01:52<00:03, 101MB/s]\u001b[A\n",
      " 96%|█████████▋| 9.01G/9.34G [01:52<00:03, 102MB/s]\u001b[A\n",
      " 97%|█████████▋| 9.02G/9.34G [01:52<00:03, 105MB/s]\u001b[A\n",
      " 97%|█████████▋| 9.03G/9.34G [01:52<00:03, 103MB/s]\u001b[A\n",
      " 97%|█████████▋| 9.04G/9.34G [01:52<00:03, 99.8MB/s]\u001b[A\n",
      " 97%|█████████▋| 9.05G/9.34G [01:52<00:02, 104MB/s] \u001b[A\n",
      " 97%|█████████▋| 9.06G/9.34G [01:53<00:02, 103MB/s]\u001b[A\n",
      " 97%|█████████▋| 9.07G/9.34G [01:53<00:02, 99.9MB/s]\u001b[A\n",
      " 97%|█████████▋| 9.08G/9.34G [01:53<00:02, 102MB/s] \u001b[A\n",
      " 97%|█████████▋| 9.09G/9.34G [01:53<00:02, 104MB/s]\u001b[A\n",
      " 97%|█████████▋| 9.10G/9.34G [01:53<00:02, 102MB/s]\u001b[A\n",
      " 98%|█████████▊| 9.11G/9.34G [01:53<00:02, 100MB/s]\u001b[A\n",
      " 98%|█████████▊| 9.12G/9.34G [01:53<00:02, 103MB/s]\u001b[A\n",
      " 98%|█████████▊| 9.13G/9.34G [01:53<00:02, 102MB/s]\u001b[A\n",
      " 98%|█████████▊| 9.14G/9.34G [01:53<00:02, 102MB/s]\u001b[A\n",
      " 98%|█████████▊| 9.15G/9.34G [01:54<00:02, 69.0MB/s]\u001b[A\n",
      " 98%|█████████▊| 9.16G/9.34G [01:54<00:02, 78.3MB/s]\u001b[A\n",
      " 98%|█████████▊| 9.17G/9.34G [01:54<00:02, 85.8MB/s]\u001b[A\n",
      " 98%|█████████▊| 9.18G/9.34G [01:54<00:01, 89.8MB/s]\u001b[A\n",
      " 98%|█████████▊| 9.19G/9.34G [01:54<00:01, 92.6MB/s]\u001b[A\n",
      " 99%|█████████▊| 9.21G/9.34G [01:54<00:01, 98.4MB/s]\u001b[A\n",
      " 99%|█████████▊| 9.22G/9.34G [01:54<00:01, 102MB/s] \u001b[A\n",
      " 99%|█████████▉| 9.23G/9.34G [01:54<00:01, 104MB/s]\u001b[A\n",
      " 99%|█████████▉| 9.24G/9.34G [01:55<00:01, 105MB/s]\u001b[A\n",
      " 99%|█████████▉| 9.25G/9.34G [01:55<00:01, 65.4MB/s]\u001b[A\n",
      " 99%|█████████▉| 9.26G/9.34G [01:55<00:01, 76.3MB/s]\u001b[A\n",
      " 99%|█████████▉| 9.27G/9.34G [01:55<00:00, 83.9MB/s]\u001b[A\n",
      " 99%|█████████▉| 9.28G/9.34G [01:55<00:00, 89.2MB/s]\u001b[A\n",
      "100%|█████████▉| 9.29G/9.34G [01:55<00:00, 91.6MB/s]\u001b[A\n",
      "100%|█████████▉| 9.30G/9.34G [01:55<00:00, 92.9MB/s]\u001b[A\n",
      "100%|█████████▉| 9.31G/9.34G [01:56<00:00, 97.4MB/s]\u001b[A\n",
      "100%|█████████▉| 9.32G/9.34G [01:56<00:00, 101MB/s] \u001b[A\n",
      "100%|██████████| 9.34G/9.34G [01:56<00:00, 86.2MB/s][A"
     ]
    },
    {
     "name": "stdout",
     "output_type": "stream",
     "text": [
      "Path to model files: /home/jupyter/.cache/kagglehub/models/joelbest/gemma2b_re/keras/my_model_keraspreset/1\n"
     ]
    },
    {
     "name": "stderr",
     "output_type": "stream",
     "text": [
      "\n"
     ]
    }
   ],
   "source": [
    "# 11-30-2024 edits \n",
    "# Download latest version\n",
    "path = kagglehub.model_download(\"joelbest/gemma2b_re/keras/my_model_keraspreset\")\n",
    "\n",
    "print(\"Path to model files:\", path)"
   ]
  },
  {
   "cell_type": "code",
   "execution_count": null,
   "metadata": {},
   "outputs": [],
   "source": []
  }
 ],
 "metadata": {
  "accelerator": "GPU",
  "colab": {
   "gpuType": "T4",
   "provenance": []
  },
  "environment": {
   "kernel": "conda-base-py",
   "name": "workbench-notebooks.m125",
   "type": "gcloud",
   "uri": "us-docker.pkg.dev/deeplearning-platform-release/gcr.io/workbench-notebooks:m125"
  },
  "kaggle": {
   "accelerator": "gpu",
   "dataSources": [
    {
     "datasetId": 5864618,
     "sourceId": 9611153,
     "sourceType": "datasetVersion"
    },
    {
     "modelId": 3533,
     "modelInstanceId": 5171,
     "sourceId": 10260,
     "sourceType": "modelInstanceVersion"
    }
   ],
   "isGpuEnabled": true,
   "isInternetEnabled": false,
   "language": "python",
   "sourceType": "notebook"
  },
  "kernelspec": {
   "display_name": "Python 3 (ipykernel)",
   "language": "python",
   "name": "conda-base-py"
  },
  "language_info": {
   "codemirror_mode": {
    "name": "ipython",
    "version": 3
   },
   "file_extension": ".py",
   "mimetype": "text/x-python",
   "name": "python",
   "nbconvert_exporter": "python",
   "pygments_lexer": "ipython3",
   "version": "3.10.15"
  },
  "papermill": {
   "default_parameters": {},
   "duration": 897.635437,
   "end_time": "2024-02-21T09:52:28.59121",
   "environment_variables": {},
   "exception": null,
   "input_path": "__notebook__.ipynb",
   "output_path": "__notebook__.ipynb",
   "parameters": {},
   "start_time": "2024-02-21T09:37:30.955773",
   "version": "2.5.0"
  }
 },
 "nbformat": 4,
 "nbformat_minor": 4
}
